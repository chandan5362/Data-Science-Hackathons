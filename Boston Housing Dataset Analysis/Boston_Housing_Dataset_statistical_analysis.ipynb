{
 "cells": [
  {
   "cell_type": "code",
   "execution_count": 52,
   "id": "5459692b",
   "metadata": {},
   "outputs": [],
   "source": [
    "import numpy as np\n",
    "import pandas as pd\n",
    "import scipy.stats as stats\n",
    "import seaborn as sns\n",
    "import statsmodels.api as sm\n",
    "import matplotlib.pyplot as plt\n",
    "%notebook inline"
   ]
  },
  {
   "cell_type": "code",
   "execution_count": 55,
   "id": "317c30b7",
   "metadata": {},
   "outputs": [],
   "source": [
    "import warnings\n",
    "warnings.filterwarnings('ignore')"
   ]
  },
  {
   "cell_type": "code",
   "execution_count": 12,
   "id": "3d624c5e",
   "metadata": {},
   "outputs": [],
   "source": [
    "#read the dataset\n",
    "#source : Coursera \"Statistics for Data science with python\"\n",
    "boston_url = 'https://cf-courses-data.s3.us.cloud-object-storage.appdomain.cloud/IBMDeveloperSkillsNetwork-ST0151EN-SkillsNetwork/labs/boston_housing.csv'\n",
    "boston_df=pd.read_csv(boston_url, index_col=0)"
   ]
  },
  {
   "cell_type": "markdown",
   "id": "437866ee",
   "metadata": {},
   "source": [
    "### Dataset Description\n",
    "The following describes the dataset variables:\n",
    "\n",
    "·      CRIM - per capita crime rate by town\n",
    "\n",
    "·      ZN - proportion of residential land zoned for lots over 25,000 sq.ft.\n",
    "\n",
    "·      INDUS - proportion of non-retail business acres per town.\n",
    "\n",
    "·      CHAS - Charles River dummy variable (1 if tract bounds river; 0 otherwise)\n",
    "\n",
    "·      NOX - nitric oxides concentration (parts per 10 million)\n",
    "\n",
    "·      RM - average number of rooms per dwelling\n",
    "\n",
    "·      AGE - proportion of owner-occupied units built prior to 1940\n",
    "\n",
    "·      DIS - weighted distances to five Boston employment centres\n",
    "\n",
    "·      RAD - index of accessibility to radial highways\n",
    "\n",
    "·      TAX - full-value property-tax rate per $10,000\n",
    "\n",
    "·      PTRATIO - pupil-teacher ratio by town\n",
    "\n",
    "·      LSTAT - % lower status of the population\n",
    "\n",
    "·      MEDV - Median value of owner-occupied homes in $1000's"
   ]
  },
  {
   "cell_type": "code",
   "execution_count": 13,
   "id": "1fe1d12e",
   "metadata": {},
   "outputs": [
    {
     "data": {
      "text/html": [
       "<div>\n",
       "<style scoped>\n",
       "    .dataframe tbody tr th:only-of-type {\n",
       "        vertical-align: middle;\n",
       "    }\n",
       "\n",
       "    .dataframe tbody tr th {\n",
       "        vertical-align: top;\n",
       "    }\n",
       "\n",
       "    .dataframe thead th {\n",
       "        text-align: right;\n",
       "    }\n",
       "</style>\n",
       "<table border=\"1\" class=\"dataframe\">\n",
       "  <thead>\n",
       "    <tr style=\"text-align: right;\">\n",
       "      <th></th>\n",
       "      <th>CRIM</th>\n",
       "      <th>ZN</th>\n",
       "      <th>INDUS</th>\n",
       "      <th>CHAS</th>\n",
       "      <th>NOX</th>\n",
       "      <th>RM</th>\n",
       "      <th>AGE</th>\n",
       "      <th>DIS</th>\n",
       "      <th>RAD</th>\n",
       "      <th>TAX</th>\n",
       "      <th>PTRATIO</th>\n",
       "      <th>LSTAT</th>\n",
       "      <th>MEDV</th>\n",
       "    </tr>\n",
       "  </thead>\n",
       "  <tbody>\n",
       "    <tr>\n",
       "      <th>0</th>\n",
       "      <td>0.00632</td>\n",
       "      <td>18.0</td>\n",
       "      <td>2.31</td>\n",
       "      <td>0.0</td>\n",
       "      <td>0.538</td>\n",
       "      <td>6.575</td>\n",
       "      <td>65.2</td>\n",
       "      <td>4.0900</td>\n",
       "      <td>1.0</td>\n",
       "      <td>296.0</td>\n",
       "      <td>15.3</td>\n",
       "      <td>4.98</td>\n",
       "      <td>24.0</td>\n",
       "    </tr>\n",
       "    <tr>\n",
       "      <th>1</th>\n",
       "      <td>0.02731</td>\n",
       "      <td>0.0</td>\n",
       "      <td>7.07</td>\n",
       "      <td>0.0</td>\n",
       "      <td>0.469</td>\n",
       "      <td>6.421</td>\n",
       "      <td>78.9</td>\n",
       "      <td>4.9671</td>\n",
       "      <td>2.0</td>\n",
       "      <td>242.0</td>\n",
       "      <td>17.8</td>\n",
       "      <td>9.14</td>\n",
       "      <td>21.6</td>\n",
       "    </tr>\n",
       "    <tr>\n",
       "      <th>2</th>\n",
       "      <td>0.02729</td>\n",
       "      <td>0.0</td>\n",
       "      <td>7.07</td>\n",
       "      <td>0.0</td>\n",
       "      <td>0.469</td>\n",
       "      <td>7.185</td>\n",
       "      <td>61.1</td>\n",
       "      <td>4.9671</td>\n",
       "      <td>2.0</td>\n",
       "      <td>242.0</td>\n",
       "      <td>17.8</td>\n",
       "      <td>4.03</td>\n",
       "      <td>34.7</td>\n",
       "    </tr>\n",
       "    <tr>\n",
       "      <th>3</th>\n",
       "      <td>0.03237</td>\n",
       "      <td>0.0</td>\n",
       "      <td>2.18</td>\n",
       "      <td>0.0</td>\n",
       "      <td>0.458</td>\n",
       "      <td>6.998</td>\n",
       "      <td>45.8</td>\n",
       "      <td>6.0622</td>\n",
       "      <td>3.0</td>\n",
       "      <td>222.0</td>\n",
       "      <td>18.7</td>\n",
       "      <td>2.94</td>\n",
       "      <td>33.4</td>\n",
       "    </tr>\n",
       "    <tr>\n",
       "      <th>4</th>\n",
       "      <td>0.06905</td>\n",
       "      <td>0.0</td>\n",
       "      <td>2.18</td>\n",
       "      <td>0.0</td>\n",
       "      <td>0.458</td>\n",
       "      <td>7.147</td>\n",
       "      <td>54.2</td>\n",
       "      <td>6.0622</td>\n",
       "      <td>3.0</td>\n",
       "      <td>222.0</td>\n",
       "      <td>18.7</td>\n",
       "      <td>5.33</td>\n",
       "      <td>36.2</td>\n",
       "    </tr>\n",
       "  </tbody>\n",
       "</table>\n",
       "</div>"
      ],
      "text/plain": [
       "      CRIM    ZN  INDUS  CHAS    NOX     RM   AGE     DIS  RAD    TAX  \\\n",
       "0  0.00632  18.0   2.31   0.0  0.538  6.575  65.2  4.0900  1.0  296.0   \n",
       "1  0.02731   0.0   7.07   0.0  0.469  6.421  78.9  4.9671  2.0  242.0   \n",
       "2  0.02729   0.0   7.07   0.0  0.469  7.185  61.1  4.9671  2.0  242.0   \n",
       "3  0.03237   0.0   2.18   0.0  0.458  6.998  45.8  6.0622  3.0  222.0   \n",
       "4  0.06905   0.0   2.18   0.0  0.458  7.147  54.2  6.0622  3.0  222.0   \n",
       "\n",
       "   PTRATIO  LSTAT  MEDV  \n",
       "0     15.3   4.98  24.0  \n",
       "1     17.8   9.14  21.6  \n",
       "2     17.8   4.03  34.7  \n",
       "3     18.7   2.94  33.4  \n",
       "4     18.7   5.33  36.2  "
      ]
     },
     "execution_count": 13,
     "metadata": {},
     "output_type": "execute_result"
    }
   ],
   "source": [
    "boston_df.head()"
   ]
  },
  {
   "cell_type": "code",
   "execution_count": 14,
   "id": "8fffc8f1",
   "metadata": {},
   "outputs": [
    {
     "data": {
      "text/plain": [
       "(506, 13)"
      ]
     },
     "execution_count": 14,
     "metadata": {},
     "output_type": "execute_result"
    }
   ],
   "source": [
    "boston_df.shape"
   ]
  },
  {
   "cell_type": "code",
   "execution_count": 20,
   "id": "b7029056",
   "metadata": {},
   "outputs": [
    {
     "data": {
      "image/png": "[encoded data removed]",
      "text/plain": [
       "<Figure size 432x288 with 1 Axes>"
      ]
     },
     "metadata": {
      "needs_background": "light"
     },
     "output_type": "display_data"
    }
   ],
   "source": [
    "#boxplot for owner occupied home\n",
    "sns.boxplot(x ='MEDV', data = boston_df)\n",
    "plt.title(\"Median value of owner-occupied homes in $1000's\")\n",
    "plt.show()"
   ]
  },
  {
   "cell_type": "code",
   "execution_count": 21,
   "id": "c26316f1",
   "metadata": {},
   "outputs": [
    {
     "data": {
      "text/plain": [
       "CRIM       float64\n",
       "ZN         float64\n",
       "INDUS      float64\n",
       "CHAS       float64\n",
       "NOX        float64\n",
       "RM         float64\n",
       "AGE        float64\n",
       "DIS        float64\n",
       "RAD        float64\n",
       "TAX        float64\n",
       "PTRATIO    float64\n",
       "LSTAT      float64\n",
       "MEDV       float64\n",
       "dtype: object"
      ]
     },
     "execution_count": 21,
     "metadata": {},
     "output_type": "execute_result"
    }
   ],
   "source": [
    "boston_df.dtypes"
   ]
  },
  {
   "cell_type": "code",
   "execution_count": 26,
   "id": "d44da2f5",
   "metadata": {},
   "outputs": [
    {
     "data": {
      "image/png": "[encoded data removed]",
      "text/plain": [
       "<Figure size 432x288 with 1 Axes>"
      ]
     },
     "metadata": {
      "needs_background": "light"
     },
     "output_type": "display_data"
    }
   ],
   "source": [
    "#histogram for charles river variable\n",
    "sns.histplot(data = boston_df,\n",
    "             x = 'CHAS')\n",
    "plt.title(\"Charles River dummy variable\")\n",
    "plt.show()"
   ]
  },
  {
   "cell_type": "markdown",
   "id": "82a3dcfe",
   "metadata": {},
   "source": [
    "In the above figure, we see that almost all the values are either zero or one. A `bar plot` would have been hood given that it is a categorical variable."
   ]
  },
  {
   "cell_type": "code",
   "execution_count": 107,
   "id": "8ba2ba53",
   "metadata": {},
   "outputs": [],
   "source": [
    "#check whether the median value of owner occupied home have any dependency on the age( <=35yrs, >35 && <70, >=70)\n",
    "\n",
    "boston_df.loc[boston_df.AGE<=35, 'age_group'] = \"less than and equal to 35 year\"\n",
    "boston_df.loc[(boston_df.AGE>35) & (boston_df.AGE<70), 'age_group'] = \"between 35 and 70 year\"\n",
    "boston_df.loc[boston_df.AGE>=70, 'age_group'] = \"more than 70 year\""
   ]
  },
  {
   "cell_type": "code",
   "execution_count": 108,
   "id": "09ffe143",
   "metadata": {},
   "outputs": [
    {
     "data": {
      "text/html": [
       "<div>\n",
       "<style scoped>\n",
       "    .dataframe tbody tr th:only-of-type {\n",
       "        vertical-align: middle;\n",
       "    }\n",
       "\n",
       "    .dataframe tbody tr th {\n",
       "        vertical-align: top;\n",
       "    }\n",
       "\n",
       "    .dataframe thead th {\n",
       "        text-align: right;\n",
       "    }\n",
       "</style>\n",
       "<table border=\"1\" class=\"dataframe\">\n",
       "  <thead>\n",
       "    <tr style=\"text-align: right;\">\n",
       "      <th></th>\n",
       "      <th>CRIM</th>\n",
       "      <th>ZN</th>\n",
       "      <th>INDUS</th>\n",
       "      <th>CHAS</th>\n",
       "      <th>NOX</th>\n",
       "      <th>RM</th>\n",
       "      <th>AGE</th>\n",
       "      <th>DIS</th>\n",
       "      <th>RAD</th>\n",
       "      <th>TAX</th>\n",
       "      <th>PTRATIO</th>\n",
       "      <th>LSTAT</th>\n",
       "      <th>MEDV</th>\n",
       "      <th>age_group</th>\n",
       "    </tr>\n",
       "  </thead>\n",
       "  <tbody>\n",
       "    <tr>\n",
       "      <th>0</th>\n",
       "      <td>0.00632</td>\n",
       "      <td>18.0</td>\n",
       "      <td>2.31</td>\n",
       "      <td>0.0</td>\n",
       "      <td>0.538</td>\n",
       "      <td>6.575</td>\n",
       "      <td>65.2</td>\n",
       "      <td>4.0900</td>\n",
       "      <td>1.0</td>\n",
       "      <td>296.0</td>\n",
       "      <td>15.3</td>\n",
       "      <td>4.98</td>\n",
       "      <td>24.0</td>\n",
       "      <td>between 35 and 70 year</td>\n",
       "    </tr>\n",
       "    <tr>\n",
       "      <th>1</th>\n",
       "      <td>0.02731</td>\n",
       "      <td>0.0</td>\n",
       "      <td>7.07</td>\n",
       "      <td>0.0</td>\n",
       "      <td>0.469</td>\n",
       "      <td>6.421</td>\n",
       "      <td>78.9</td>\n",
       "      <td>4.9671</td>\n",
       "      <td>2.0</td>\n",
       "      <td>242.0</td>\n",
       "      <td>17.8</td>\n",
       "      <td>9.14</td>\n",
       "      <td>21.6</td>\n",
       "      <td>more than 70 year</td>\n",
       "    </tr>\n",
       "    <tr>\n",
       "      <th>2</th>\n",
       "      <td>0.02729</td>\n",
       "      <td>0.0</td>\n",
       "      <td>7.07</td>\n",
       "      <td>0.0</td>\n",
       "      <td>0.469</td>\n",
       "      <td>7.185</td>\n",
       "      <td>61.1</td>\n",
       "      <td>4.9671</td>\n",
       "      <td>2.0</td>\n",
       "      <td>242.0</td>\n",
       "      <td>17.8</td>\n",
       "      <td>4.03</td>\n",
       "      <td>34.7</td>\n",
       "      <td>between 35 and 70 year</td>\n",
       "    </tr>\n",
       "    <tr>\n",
       "      <th>3</th>\n",
       "      <td>0.03237</td>\n",
       "      <td>0.0</td>\n",
       "      <td>2.18</td>\n",
       "      <td>0.0</td>\n",
       "      <td>0.458</td>\n",
       "      <td>6.998</td>\n",
       "      <td>45.8</td>\n",
       "      <td>6.0622</td>\n",
       "      <td>3.0</td>\n",
       "      <td>222.0</td>\n",
       "      <td>18.7</td>\n",
       "      <td>2.94</td>\n",
       "      <td>33.4</td>\n",
       "      <td>between 35 and 70 year</td>\n",
       "    </tr>\n",
       "    <tr>\n",
       "      <th>4</th>\n",
       "      <td>0.06905</td>\n",
       "      <td>0.0</td>\n",
       "      <td>2.18</td>\n",
       "      <td>0.0</td>\n",
       "      <td>0.458</td>\n",
       "      <td>7.147</td>\n",
       "      <td>54.2</td>\n",
       "      <td>6.0622</td>\n",
       "      <td>3.0</td>\n",
       "      <td>222.0</td>\n",
       "      <td>18.7</td>\n",
       "      <td>5.33</td>\n",
       "      <td>36.2</td>\n",
       "      <td>between 35 and 70 year</td>\n",
       "    </tr>\n",
       "  </tbody>\n",
       "</table>\n",
       "</div>"
      ],
      "text/plain": [
       "      CRIM    ZN  INDUS  CHAS    NOX     RM   AGE     DIS  RAD    TAX  \\\n",
       "0  0.00632  18.0   2.31   0.0  0.538  6.575  65.2  4.0900  1.0  296.0   \n",
       "1  0.02731   0.0   7.07   0.0  0.469  6.421  78.9  4.9671  2.0  242.0   \n",
       "2  0.02729   0.0   7.07   0.0  0.469  7.185  61.1  4.9671  2.0  242.0   \n",
       "3  0.03237   0.0   2.18   0.0  0.458  6.998  45.8  6.0622  3.0  222.0   \n",
       "4  0.06905   0.0   2.18   0.0  0.458  7.147  54.2  6.0622  3.0  222.0   \n",
       "\n",
       "   PTRATIO  LSTAT  MEDV               age_group  \n",
       "0     15.3   4.98  24.0  between 35 and 70 year  \n",
       "1     17.8   9.14  21.6       more than 70 year  \n",
       "2     17.8   4.03  34.7  between 35 and 70 year  \n",
       "3     18.7   2.94  33.4  between 35 and 70 year  \n",
       "4     18.7   5.33  36.2  between 35 and 70 year  "
      ]
     },
     "execution_count": 108,
     "metadata": {},
     "output_type": "execute_result"
    }
   ],
   "source": [
    "boston_df.head()"
   ]
  },
  {
   "cell_type": "code",
   "execution_count": 109,
   "id": "937e4b5b",
   "metadata": {},
   "outputs": [
    {
     "data": {
      "image/png": "[encoded data removed]",
      "text/plain": [
       "<Figure size 576x432 with 1 Axes>"
      ]
     },
     "metadata": {
      "needs_background": "light"
     },
     "output_type": "display_data"
    }
   ],
   "source": [
    "ax, fig = plt.subplots(1,1 ,figsize =(8,6))\n",
    "sns.boxplot(x = 'age_group',\n",
    "            y = 'MEDV',\n",
    "            data=boston_df)\n",
    "\n",
    "plt.title('median housing value vs age group')\n",
    "\n",
    "plt.show()"
   ]
  },
  {
   "cell_type": "markdown",
   "id": "1e7c67b0",
   "metadata": {},
   "source": [
    "We see that Owner below the age of 70 year, is having maximum housing median values and that of older age group is having minimum housing value. "
   ]
  },
  {
   "cell_type": "code",
   "execution_count": 110,
   "id": "56cb11d5",
   "metadata": {},
   "outputs": [
    {
     "data": {
      "image/png": "[encoded data removed]",
      "text/plain": [
       "<Figure size 432x288 with 1 Axes>"
      ]
     },
     "metadata": {
      "needs_background": "light"
     },
     "output_type": "display_data"
    }
   ],
   "source": [
    "sns.scatterplot(x = 'NOX', y ='INDUS', data = boston_df)\n",
    "plt.show()"
   ]
  },
  {
   "cell_type": "markdown",
   "id": "af60dfa9",
   "metadata": {},
   "source": [
    "Just by looking at the graph we can say that both INDUS and NOX are positively correlated,  Let'c check it statistically."
   ]
  },
  {
   "cell_type": "code",
   "execution_count": 111,
   "id": "6f5523b4",
   "metadata": {},
   "outputs": [
    {
     "data": {
      "text/plain": [
       "(0.7636514469209157, 7.913361061233745e-98)"
      ]
     },
     "execution_count": 111,
     "metadata": {},
     "output_type": "execute_result"
    }
   ],
   "source": [
    "#NULL:  No relation exist between these values\n",
    "#Alternate: Both the variables are related\n",
    "#alpha : 0.5\n",
    "stats.pearsonr(boston_df.NOX, boston_df.INDUS)"
   ]
  },
  {
   "cell_type": "markdown",
   "id": "ef5a1b56",
   "metadata": {},
   "source": [
    "We see that pval is less than alpha, hence we reject the null hypothesis. Also by looking at the `correlation coefficient` we can say with high confidence that both the variables are statistically higly correlated. We can also check it using the `regression analysis`"
   ]
  },
  {
   "cell_type": "code",
   "execution_count": 112,
   "id": "71ebcfec",
   "metadata": {},
   "outputs": [
    {
     "data": {
      "text/html": [
       "<table class=\"simpletable\">\n",
       "<caption>OLS Regression Results</caption>\n",
       "<tr>\n",
       "  <th>Dep. Variable:</th>          <td>INDUS</td>      <th>  R-squared:         </th> <td>   0.583</td>\n",
       "</tr>\n",
       "<tr>\n",
       "  <th>Model:</th>                   <td>OLS</td>       <th>  Adj. R-squared:    </th> <td>   0.582</td>\n",
       "</tr>\n",
       "<tr>\n",
       "  <th>Method:</th>             <td>Least Squares</td>  <th>  F-statistic:       </th> <td>   705.1</td>\n",
       "</tr>\n",
       "<tr>\n",
       "  <th>Date:</th>             <td>Tue, 24 Aug 2021</td> <th>  Prob (F-statistic):</th> <td>7.91e-98</td>\n",
       "</tr>\n",
       "<tr>\n",
       "  <th>Time:</th>                 <td>02:27:39</td>     <th>  Log-Likelihood:    </th> <td> -1470.5</td>\n",
       "</tr>\n",
       "<tr>\n",
       "  <th>No. Observations:</th>      <td>   506</td>      <th>  AIC:               </th> <td>   2945.</td>\n",
       "</tr>\n",
       "<tr>\n",
       "  <th>Df Residuals:</th>          <td>   504</td>      <th>  BIC:               </th> <td>   2954.</td>\n",
       "</tr>\n",
       "<tr>\n",
       "  <th>Df Model:</th>              <td>     1</td>      <th>                     </th>     <td> </td>   \n",
       "</tr>\n",
       "<tr>\n",
       "  <th>Covariance Type:</th>      <td>nonrobust</td>    <th>                     </th>     <td> </td>   \n",
       "</tr>\n",
       "</table>\n",
       "<table class=\"simpletable\">\n",
       "<tr>\n",
       "    <td></td>       <th>coef</th>     <th>std err</th>      <th>t</th>      <th>P>|t|</th>  <th>[0.025</th>    <th>0.975]</th>  \n",
       "</tr>\n",
       "<tr>\n",
       "  <th>const</th> <td>  -13.9414</td> <td>    0.965</td> <td>  -14.450</td> <td> 0.000</td> <td>  -15.837</td> <td>  -12.046</td>\n",
       "</tr>\n",
       "<tr>\n",
       "  <th>NOX</th>   <td>   45.2108</td> <td>    1.703</td> <td>   26.554</td> <td> 0.000</td> <td>   41.866</td> <td>   48.556</td>\n",
       "</tr>\n",
       "</table>\n",
       "<table class=\"simpletable\">\n",
       "<tr>\n",
       "  <th>Omnibus:</th>       <td>46.050</td> <th>  Durbin-Watson:     </th> <td>   0.272</td>\n",
       "</tr>\n",
       "<tr>\n",
       "  <th>Prob(Omnibus):</th> <td> 0.000</td> <th>  Jarque-Bera (JB):  </th> <td>  67.622</td>\n",
       "</tr>\n",
       "<tr>\n",
       "  <th>Skew:</th>          <td> 0.649</td> <th>  Prob(JB):          </th> <td>2.07e-15</td>\n",
       "</tr>\n",
       "<tr>\n",
       "  <th>Kurtosis:</th>      <td> 4.233</td> <th>  Cond. No.          </th> <td>    11.3</td>\n",
       "</tr>\n",
       "</table><br/><br/>Notes:<br/>[1] Standard Errors assume that the covariance matrix of the errors is correctly specified."
      ],
      "text/plain": [
       "<class 'statsmodels.iolib.summary.Summary'>\n",
       "\"\"\"\n",
       "                            OLS Regression Results                            \n",
       "==============================================================================\n",
       "Dep. Variable:                  INDUS   R-squared:                       0.583\n",
       "Model:                            OLS   Adj. R-squared:                  0.582\n",
       "Method:                 Least Squares   F-statistic:                     705.1\n",
       "Date:                Tue, 24 Aug 2021   Prob (F-statistic):           7.91e-98\n",
       "Time:                        02:27:39   Log-Likelihood:                -1470.5\n",
       "No. Observations:                 506   AIC:                             2945.\n",
       "Df Residuals:                     504   BIC:                             2954.\n",
       "Df Model:                           1                                         \n",
       "Covariance Type:            nonrobust                                         \n",
       "==============================================================================\n",
       "                 coef    std err          t      P>|t|      [0.025      0.975]\n",
       "------------------------------------------------------------------------------\n",
       "const        -13.9414      0.965    -14.450      0.000     -15.837     -12.046\n",
       "NOX           45.2108      1.703     26.554      0.000      41.866      48.556\n",
       "==============================================================================\n",
       "Omnibus:                       46.050   Durbin-Watson:                   0.272\n",
       "Prob(Omnibus):                  0.000   Jarque-Bera (JB):               67.622\n",
       "Skew:                           0.649   Prob(JB):                     2.07e-15\n",
       "Kurtosis:                       4.233   Cond. No.                         11.3\n",
       "==============================================================================\n",
       "\n",
       "Notes:\n",
       "[1] Standard Errors assume that the covariance matrix of the errors is correctly specified.\n",
       "\"\"\""
      ]
     },
     "execution_count": 112,
     "metadata": {},
     "output_type": "execute_result"
    }
   ],
   "source": [
    "#Regression analysis for correlation between NOX and INDUS\n",
    "\n",
    "x = boston_df['NOX']\n",
    "y = boston_df['INDUS']\n",
    "\n",
    "x = sm.add_constant(x)\n",
    "\n",
    "model = sm.OLS(y, x).fit()\n",
    "predictions = model.predict(x)\n",
    "model.summary()"
   ]
  },
  {
   "cell_type": "markdown",
   "id": "13d4f3ad",
   "metadata": {},
   "source": [
    "in the above summary, we can see that pval < 0.05, so we can reject the null hypothesis saying that there is no relation between  NOX and INDUS."
   ]
  },
  {
   "cell_type": "code",
   "execution_count": 113,
   "id": "f88d5838",
   "metadata": {},
   "outputs": [
    {
     "data": {
      "image/png": "[encoded data removed]",
      "text/plain": [
       "<Figure size 432x288 with 1 Axes>"
      ]
     },
     "metadata": {
      "needs_background": "light"
     },
     "output_type": "display_data"
    }
   ],
   "source": [
    "sns.histplot(x = 'PTRATIO', data = boston_df)\n",
    "plt.title(\"pupil to teacher ratio\")\n",
    "plt.show()"
   ]
  },
  {
   "cell_type": "markdown",
   "id": "07f7277d",
   "metadata": {},
   "source": [
    "## Statistical Test"
   ]
  },
  {
   "cell_type": "markdown",
   "id": "ed8a3a2f",
   "metadata": {},
   "source": [
    "### Is there a significant difference in median value of houses bounded by the Charles river or not?"
   ]
  },
  {
   "cell_type": "code",
   "execution_count": 114,
   "id": "58256dc4",
   "metadata": {},
   "outputs": [
    {
     "name": "stdout",
     "output_type": "stream",
     "text": [
      "t: 3.113291312794837 pval: 0.003567170098137517\n",
      "There is enough evidence that proves that median value of houses bounded by charles river is different from those not bounded by it.\n"
     ]
    }
   ],
   "source": [
    "#Assumtion: MEDV follows normal distribution\n",
    "# 2-sample  T-test\n",
    "#Null: There is no significant difference\n",
    "#Alternate: There is significant difference\n",
    "#alpha  = 0.05\n",
    "\n",
    "bounded = boston_df[boston_df.CHAS == 1]['MEDV']\n",
    "not_bounded = boston_df[boston_df.CHAS == 0]['MEDV']\n",
    "\n",
    "# Levene test for equal variance\n",
    "tl, pl_val = stats.levene(bounded, not_bounded)\n",
    "\n",
    "if pl_val > 0.05: #null hyppothesis true,  student t-test\n",
    "    t, pval = stats.ttest_ind(bounded, not_bounded, equal_var = True)\n",
    "else: # welch t-test\n",
    "    t, pval = stats.ttest_ind(bounded, not_bounded, equal_var = False)\n",
    "\n",
    "print(\"t:\", t, \"pval:\", pval)\n",
    "if pval > 0.05:\n",
    "    print(\" There is no significant difference between the median value of houses in any of the above mentioned case\")\n",
    "else:\n",
    "    print(\"There is enough evidence that proves that median value of houses bounded by charles river is different from those not bounded by it.\")\n"
   ]
  },
  {
   "cell_type": "markdown",
   "id": "24e71f47",
   "metadata": {},
   "source": [
    "### Is there a difference in Median values of houses (MEDV) for each proportion of owner occupied units built prior to 1940 (AGE)? "
   ]
  },
  {
   "cell_type": "code",
   "execution_count": 115,
   "id": "7590263f",
   "metadata": {},
   "outputs": [
    {
     "data": {
      "text/html": [
       "<div>\n",
       "<style scoped>\n",
       "    .dataframe tbody tr th:only-of-type {\n",
       "        vertical-align: middle;\n",
       "    }\n",
       "\n",
       "    .dataframe tbody tr th {\n",
       "        vertical-align: top;\n",
       "    }\n",
       "\n",
       "    .dataframe thead th {\n",
       "        text-align: right;\n",
       "    }\n",
       "</style>\n",
       "<table border=\"1\" class=\"dataframe\">\n",
       "  <thead>\n",
       "    <tr style=\"text-align: right;\">\n",
       "      <th></th>\n",
       "      <th>CRIM</th>\n",
       "      <th>ZN</th>\n",
       "      <th>INDUS</th>\n",
       "      <th>CHAS</th>\n",
       "      <th>NOX</th>\n",
       "      <th>RM</th>\n",
       "      <th>AGE</th>\n",
       "      <th>DIS</th>\n",
       "      <th>RAD</th>\n",
       "      <th>TAX</th>\n",
       "      <th>PTRATIO</th>\n",
       "      <th>LSTAT</th>\n",
       "      <th>MEDV</th>\n",
       "    </tr>\n",
       "    <tr>\n",
       "      <th>age_group</th>\n",
       "      <th></th>\n",
       "      <th></th>\n",
       "      <th></th>\n",
       "      <th></th>\n",
       "      <th></th>\n",
       "      <th></th>\n",
       "      <th></th>\n",
       "      <th></th>\n",
       "      <th></th>\n",
       "      <th></th>\n",
       "      <th></th>\n",
       "      <th></th>\n",
       "      <th></th>\n",
       "    </tr>\n",
       "  </thead>\n",
       "  <tbody>\n",
       "    <tr>\n",
       "      <th>between 35 and 70 year</th>\n",
       "      <td>128</td>\n",
       "      <td>128</td>\n",
       "      <td>128</td>\n",
       "      <td>128</td>\n",
       "      <td>128</td>\n",
       "      <td>128</td>\n",
       "      <td>128</td>\n",
       "      <td>128</td>\n",
       "      <td>128</td>\n",
       "      <td>128</td>\n",
       "      <td>128</td>\n",
       "      <td>128</td>\n",
       "      <td>128</td>\n",
       "    </tr>\n",
       "    <tr>\n",
       "      <th>less than and equal to 35 year</th>\n",
       "      <td>91</td>\n",
       "      <td>91</td>\n",
       "      <td>91</td>\n",
       "      <td>91</td>\n",
       "      <td>91</td>\n",
       "      <td>91</td>\n",
       "      <td>91</td>\n",
       "      <td>91</td>\n",
       "      <td>91</td>\n",
       "      <td>91</td>\n",
       "      <td>91</td>\n",
       "      <td>91</td>\n",
       "      <td>91</td>\n",
       "    </tr>\n",
       "    <tr>\n",
       "      <th>more than 70 year</th>\n",
       "      <td>287</td>\n",
       "      <td>287</td>\n",
       "      <td>287</td>\n",
       "      <td>287</td>\n",
       "      <td>287</td>\n",
       "      <td>287</td>\n",
       "      <td>287</td>\n",
       "      <td>287</td>\n",
       "      <td>287</td>\n",
       "      <td>287</td>\n",
       "      <td>287</td>\n",
       "      <td>287</td>\n",
       "      <td>287</td>\n",
       "    </tr>\n",
       "  </tbody>\n",
       "</table>\n",
       "</div>"
      ],
      "text/plain": [
       "                                CRIM   ZN  INDUS  CHAS  NOX   RM  AGE  DIS  \\\n",
       "age_group                                                                    \n",
       "between 35 and 70 year           128  128    128   128  128  128  128  128   \n",
       "less than and equal to 35 year    91   91     91    91   91   91   91   91   \n",
       "more than 70 year                287  287    287   287  287  287  287  287   \n",
       "\n",
       "                                RAD  TAX  PTRATIO  LSTAT  MEDV  \n",
       "age_group                                                       \n",
       "between 35 and 70 year          128  128      128    128   128  \n",
       "less than and equal to 35 year   91   91       91     91    91  \n",
       "more than 70 year               287  287      287    287   287  "
      ]
     },
     "execution_count": 115,
     "metadata": {},
     "output_type": "execute_result"
    }
   ],
   "source": [
    "boston_df.groupby('age_group').count()"
   ]
  },
  {
   "cell_type": "markdown",
   "id": "6e3e35f4",
   "metadata": {},
   "source": [
    "Since there are more than two categories, we need to perform one-way ANOVA test"
   ]
  },
  {
   "cell_type": "code",
   "execution_count": 120,
   "id": "54b04487",
   "metadata": {},
   "outputs": [
    {
     "name": "stdout",
     "output_type": "stream",
     "text": [
      "equal variance property is satisfied\n",
      "f_static:  36.40764999196599 pval:  1.7105011022702984e-15\n",
      "Difference is statistically significant\n"
     ]
    }
   ],
   "source": [
    "# using Naive scipy.stats.f_oneway function\n",
    "gp1 = boston_df[boston_df.age_group == \"less than and equal to 35 year\"]['MEDV']\n",
    "gp2 = boston_df[boston_df.age_group == \"between 35 and 70 year\"]['MEDV']\n",
    "gp3 = boston_df[boston_df.age_group == \"more than 70 year\"]['MEDV']\n",
    "\n",
    "#check for equality of variance\n",
    "tl, pl_val = stats.levene(gp1, gp2, gp3, center ='mean')\n",
    "if pl_val > 0.05:\n",
    "    print(\"equal variance property is satisfied\")\n",
    "    \n",
    "    # perform one-way anova\n",
    "    f_static, pval = stats.f_oneway(gp1, gp2, gp3)\n",
    "    print(\"f_static: \", f_static, \"pval: \", pval)\n",
    "    \n",
    "    if pval > 0.05:\n",
    "        print(\"There is no difference between median values of houses for each proportion of owner occupied units built prior to 1940.\")\n",
    "    else:\n",
    "        print(\"Difference is statistically significant\")\n",
    "else:\n",
    "    print(\" Variance is not equal, aborting..\")\n",
    "    "
   ]
  },
  {
   "cell_type": "code",
   "execution_count": 122,
   "id": "6d61d18c",
   "metadata": {},
   "outputs": [
    {
     "name": "stdout",
     "output_type": "stream",
     "text": [
      "              df        sum_sq      mean_sq         F        PR(>F)\n",
      "age_group    2.0   5401.731883  2700.865942  36.40765  1.710501e-15\n",
      "Residual   503.0  37314.563532    74.184023       NaN           NaN\n"
     ]
    }
   ],
   "source": [
    "#ANOVA with regression - 1\n",
    "from statsmodels.formula.api import ols\n",
    "lm = ols('MEDV ~ age_group', data = boston_df).fit()\n",
    "table= sm.stats.anova_lm(lm)\n",
    "print(table)"
   ]
  },
  {
   "cell_type": "markdown",
   "id": "32106a10",
   "metadata": {},
   "source": [
    "In the above table also, we can see that pval is same as in the case of naive one-way anova. Since, pval < 0.05, we reject the null hypothesis stating that there is no significant difference. "
   ]
  },
  {
   "cell_type": "code",
   "execution_count": 130,
   "id": "e5ab8ae1",
   "metadata": {},
   "outputs": [
    {
     "name": "stdout",
     "output_type": "stream",
     "text": [
      "(506, 3)\n"
     ]
    },
    {
     "data": {
      "text/html": [
       "<table class=\"simpletable\">\n",
       "<caption>OLS Regression Results</caption>\n",
       "<tr>\n",
       "  <th>Dep. Variable:</th>          <td>MEDV</td>       <th>  R-squared:         </th> <td>   0.126</td>\n",
       "</tr>\n",
       "<tr>\n",
       "  <th>Model:</th>                   <td>OLS</td>       <th>  Adj. R-squared:    </th> <td>   0.121</td>\n",
       "</tr>\n",
       "<tr>\n",
       "  <th>Method:</th>             <td>Least Squares</td>  <th>  F-statistic:       </th> <td>   24.17</td>\n",
       "</tr>\n",
       "<tr>\n",
       "  <th>Date:</th>             <td>Tue, 24 Aug 2021</td> <th>  Prob (F-statistic):</th> <td>1.27e-14</td>\n",
       "</tr>\n",
       "<tr>\n",
       "  <th>Time:</th>                 <td>03:02:00</td>     <th>  Log-Likelihood:    </th> <td> -1806.1</td>\n",
       "</tr>\n",
       "<tr>\n",
       "  <th>No. Observations:</th>      <td>   506</td>      <th>  AIC:               </th> <td>   3620.</td>\n",
       "</tr>\n",
       "<tr>\n",
       "  <th>Df Residuals:</th>          <td>   502</td>      <th>  BIC:               </th> <td>   3637.</td>\n",
       "</tr>\n",
       "<tr>\n",
       "  <th>Df Model:</th>              <td>     3</td>      <th>                     </th>     <td> </td>   \n",
       "</tr>\n",
       "<tr>\n",
       "  <th>Covariance Type:</th>      <td>nonrobust</td>    <th>                     </th>     <td> </td>   \n",
       "</tr>\n",
       "</table>\n",
       "<table class=\"simpletable\">\n",
       "<tr>\n",
       "                      <td></td>                        <th>coef</th>     <th>std err</th>      <th>t</th>      <th>P>|t|</th>  <th>[0.025</th>    <th>0.975]</th>  \n",
       "</tr>\n",
       "<tr>\n",
       "  <th>const</th>                                    <td>-3.858e+13</td> <td> 9.85e+13</td> <td>   -0.392</td> <td> 0.695</td> <td>-2.32e+14</td> <td> 1.55e+14</td>\n",
       "</tr>\n",
       "<tr>\n",
       "  <th>age_group_between 35 and 70 year</th>         <td> 3.858e+13</td> <td> 9.85e+13</td> <td>    0.392</td> <td> 0.695</td> <td>-1.55e+14</td> <td> 2.32e+14</td>\n",
       "</tr>\n",
       "<tr>\n",
       "  <th>age_group_less than and equal to 35 year</th> <td> 3.858e+13</td> <td> 9.85e+13</td> <td>    0.392</td> <td> 0.695</td> <td>-1.55e+14</td> <td> 2.32e+14</td>\n",
       "</tr>\n",
       "<tr>\n",
       "  <th>age_group_more than 70 year</th>              <td> 3.858e+13</td> <td> 9.85e+13</td> <td>    0.392</td> <td> 0.695</td> <td>-1.55e+14</td> <td> 2.32e+14</td>\n",
       "</tr>\n",
       "</table>\n",
       "<table class=\"simpletable\">\n",
       "<tr>\n",
       "  <th>Omnibus:</th>       <td>158.208</td> <th>  Durbin-Watson:     </th> <td>   0.629</td>\n",
       "</tr>\n",
       "<tr>\n",
       "  <th>Prob(Omnibus):</th> <td> 0.000</td>  <th>  Jarque-Bera (JB):  </th> <td> 392.392</td>\n",
       "</tr>\n",
       "<tr>\n",
       "  <th>Skew:</th>          <td> 1.590</td>  <th>  Prob(JB):          </th> <td>6.21e-86</td>\n",
       "</tr>\n",
       "<tr>\n",
       "  <th>Kurtosis:</th>      <td> 5.916</td>  <th>  Cond. No.          </th> <td>6.18e+14</td>\n",
       "</tr>\n",
       "</table><br/><br/>Notes:<br/>[1] Standard Errors assume that the covariance matrix of the errors is correctly specified.<br/>[2] The smallest eigenvalue is 1.92e-27. This might indicate that there are<br/>strong multicollinearity problems or that the design matrix is singular."
      ],
      "text/plain": [
       "<class 'statsmodels.iolib.summary.Summary'>\n",
       "\"\"\"\n",
       "                            OLS Regression Results                            \n",
       "==============================================================================\n",
       "Dep. Variable:                   MEDV   R-squared:                       0.126\n",
       "Model:                            OLS   Adj. R-squared:                  0.121\n",
       "Method:                 Least Squares   F-statistic:                     24.17\n",
       "Date:                Tue, 24 Aug 2021   Prob (F-statistic):           1.27e-14\n",
       "Time:                        03:02:00   Log-Likelihood:                -1806.1\n",
       "No. Observations:                 506   AIC:                             3620.\n",
       "Df Residuals:                     502   BIC:                             3637.\n",
       "Df Model:                           3                                         \n",
       "Covariance Type:            nonrobust                                         \n",
       "============================================================================================================\n",
       "                                               coef    std err          t      P>|t|      [0.025      0.975]\n",
       "------------------------------------------------------------------------------------------------------------\n",
       "const                                    -3.858e+13   9.85e+13     -0.392      0.695   -2.32e+14    1.55e+14\n",
       "age_group_between 35 and 70 year          3.858e+13   9.85e+13      0.392      0.695   -1.55e+14    2.32e+14\n",
       "age_group_less than and equal to 35 year  3.858e+13   9.85e+13      0.392      0.695   -1.55e+14    2.32e+14\n",
       "age_group_more than 70 year               3.858e+13   9.85e+13      0.392      0.695   -1.55e+14    2.32e+14\n",
       "==============================================================================\n",
       "Omnibus:                      158.208   Durbin-Watson:                   0.629\n",
       "Prob(Omnibus):                  0.000   Jarque-Bera (JB):              392.392\n",
       "Skew:                           1.590   Prob(JB):                     6.21e-86\n",
       "Kurtosis:                       5.916   Cond. No.                     6.18e+14\n",
       "==============================================================================\n",
       "\n",
       "Notes:\n",
       "[1] Standard Errors assume that the covariance matrix of the errors is correctly specified.\n",
       "[2] The smallest eigenvalue is 1.92e-27. This might indicate that there are\n",
       "strong multicollinearity problems or that the design matrix is singular.\n",
       "\"\"\""
      ]
     },
     "execution_count": 130,
     "metadata": {},
     "output_type": "execute_result"
    }
   ],
   "source": [
    "x = pd.get_dummies(boston_df[['age_group']])\n",
    "print(x.shape)\n",
    "y = boston_df['MEDV']\n",
    "\n",
    "x = sm.add_constant(x)\n",
    "model = sm.OLS(y, x).fit()\n",
    "predictions = model.predict(x)\n",
    "model.summary()"
   ]
  },
  {
   "cell_type": "markdown",
   "id": "895d10c5",
   "metadata": {},
   "source": [
    "In the above model descriptipn, we can see that pval < 0.05, so we reject the null hypothesis. We can statistically say woth 95% confidence interval that, there is significant difference in median value of houses for owner occupied units built before 1940."
   ]
  },
  {
   "cell_type": "markdown",
   "id": "3a0b2f79",
   "metadata": {},
   "source": [
    "### What is the impact of an additional weighted distance  to the five Boston employment centres on the median value of owner occupied homes?"
   ]
  },
  {
   "cell_type": "code",
   "execution_count": 134,
   "id": "bca4d1dc",
   "metadata": {},
   "outputs": [
    {
     "data": {
      "text/html": [
       "<table class=\"simpletable\">\n",
       "<caption>OLS Regression Results</caption>\n",
       "<tr>\n",
       "  <th>Dep. Variable:</th>          <td>MEDV</td>       <th>  R-squared:         </th> <td>   0.062</td>\n",
       "</tr>\n",
       "<tr>\n",
       "  <th>Model:</th>                   <td>OLS</td>       <th>  Adj. R-squared:    </th> <td>   0.061</td>\n",
       "</tr>\n",
       "<tr>\n",
       "  <th>Method:</th>             <td>Least Squares</td>  <th>  F-statistic:       </th> <td>   33.58</td>\n",
       "</tr>\n",
       "<tr>\n",
       "  <th>Date:</th>             <td>Tue, 24 Aug 2021</td> <th>  Prob (F-statistic):</th> <td>1.21e-08</td>\n",
       "</tr>\n",
       "<tr>\n",
       "  <th>Time:</th>                 <td>15:58:51</td>     <th>  Log-Likelihood:    </th> <td> -1823.9</td>\n",
       "</tr>\n",
       "<tr>\n",
       "  <th>No. Observations:</th>      <td>   506</td>      <th>  AIC:               </th> <td>   3652.</td>\n",
       "</tr>\n",
       "<tr>\n",
       "  <th>Df Residuals:</th>          <td>   504</td>      <th>  BIC:               </th> <td>   3660.</td>\n",
       "</tr>\n",
       "<tr>\n",
       "  <th>Df Model:</th>              <td>     1</td>      <th>                     </th>     <td> </td>   \n",
       "</tr>\n",
       "<tr>\n",
       "  <th>Covariance Type:</th>      <td>nonrobust</td>    <th>                     </th>     <td> </td>   \n",
       "</tr>\n",
       "</table>\n",
       "<table class=\"simpletable\">\n",
       "<tr>\n",
       "    <td></td>       <th>coef</th>     <th>std err</th>      <th>t</th>      <th>P>|t|</th>  <th>[0.025</th>    <th>0.975]</th>  \n",
       "</tr>\n",
       "<tr>\n",
       "  <th>const</th> <td>   18.3901</td> <td>    0.817</td> <td>   22.499</td> <td> 0.000</td> <td>   16.784</td> <td>   19.996</td>\n",
       "</tr>\n",
       "<tr>\n",
       "  <th>DIS</th>   <td>    1.0916</td> <td>    0.188</td> <td>    5.795</td> <td> 0.000</td> <td>    0.722</td> <td>    1.462</td>\n",
       "</tr>\n",
       "</table>\n",
       "<table class=\"simpletable\">\n",
       "<tr>\n",
       "  <th>Omnibus:</th>       <td>139.779</td> <th>  Durbin-Watson:     </th> <td>   0.570</td>\n",
       "</tr>\n",
       "<tr>\n",
       "  <th>Prob(Omnibus):</th> <td> 0.000</td>  <th>  Jarque-Bera (JB):  </th> <td> 305.104</td>\n",
       "</tr>\n",
       "<tr>\n",
       "  <th>Skew:</th>          <td> 1.466</td>  <th>  Prob(JB):          </th> <td>5.59e-67</td>\n",
       "</tr>\n",
       "<tr>\n",
       "  <th>Kurtosis:</th>      <td> 5.424</td>  <th>  Cond. No.          </th> <td>    9.32</td>\n",
       "</tr>\n",
       "</table><br/><br/>Notes:<br/>[1] Standard Errors assume that the covariance matrix of the errors is correctly specified."
      ],
      "text/plain": [
       "<class 'statsmodels.iolib.summary.Summary'>\n",
       "\"\"\"\n",
       "                            OLS Regression Results                            \n",
       "==============================================================================\n",
       "Dep. Variable:                   MEDV   R-squared:                       0.062\n",
       "Model:                            OLS   Adj. R-squared:                  0.061\n",
       "Method:                 Least Squares   F-statistic:                     33.58\n",
       "Date:                Tue, 24 Aug 2021   Prob (F-statistic):           1.21e-08\n",
       "Time:                        15:58:51   Log-Likelihood:                -1823.9\n",
       "No. Observations:                 506   AIC:                             3652.\n",
       "Df Residuals:                     504   BIC:                             3660.\n",
       "Df Model:                           1                                         \n",
       "Covariance Type:            nonrobust                                         \n",
       "==============================================================================\n",
       "                 coef    std err          t      P>|t|      [0.025      0.975]\n",
       "------------------------------------------------------------------------------\n",
       "const         18.3901      0.817     22.499      0.000      16.784      19.996\n",
       "DIS            1.0916      0.188      5.795      0.000       0.722       1.462\n",
       "==============================================================================\n",
       "Omnibus:                      139.779   Durbin-Watson:                   0.570\n",
       "Prob(Omnibus):                  0.000   Jarque-Bera (JB):              305.104\n",
       "Skew:                           1.466   Prob(JB):                     5.59e-67\n",
       "Kurtosis:                       5.424   Cond. No.                         9.32\n",
       "==============================================================================\n",
       "\n",
       "Notes:\n",
       "[1] Standard Errors assume that the covariance matrix of the errors is correctly specified.\n",
       "\"\"\""
      ]
     },
     "execution_count": 134,
     "metadata": {},
     "output_type": "execute_result"
    }
   ],
   "source": [
    "#Regression analysis\n",
    "x = boston_df['DIS']\n",
    "y = boston_df['MEDV']\n",
    "\n",
    "x = sm.add_constant(x)\n",
    "model = sm.OLS(y, x).fit()\n",
    "\n",
    "predictions = model.predict(x)\n",
    "\n",
    "model.summary()"
   ]
  },
  {
   "cell_type": "markdown",
   "id": "b4877f4f",
   "metadata": {},
   "source": [
    "From above model summary, we see that pval < 0.05, so we can reject the null hypothesis stating no relation among these values. And since the slope is positive, we can statistivally say with 95% confidence that these variables are statistically positively correlated."
   ]
  },
  {
   "cell_type": "code",
   "execution_count": 138,
   "id": "d0d183ee",
   "metadata": {},
   "outputs": [
    {
     "data": {
      "text/plain": [
       "<AxesSubplot:xlabel='DIS', ylabel='MEDV'>"
      ]
     },
     "execution_count": 138,
     "metadata": {},
     "output_type": "execute_result"
    },
    {
     "data": {
      "image/png": "[encoded data removed]",
      "text/plain": [
       "<Figure size 432x288 with 1 Axes>"
      ]
     },
     "metadata": {
      "needs_background": "light"
     },
     "output_type": "display_data"
    }
   ],
   "source": [
    "# lets check with sns,regplot\n",
    "sns.regplot(x = 'DIS', y='MEDV', data = boston_df)"
   ]
  },
  {
   "cell_type": "code",
   "execution_count": null,
   "id": "cc1363a9",
   "metadata": {},
   "outputs": [],
   "source": []
  }
 ],
 "metadata": {
  "kernelspec": {
   "display_name": "tf_macos",
   "language": "python",
   "name": "tf_macos"
  },
  "language_info": {
   "codemirror_mode": {
    "name": "ipython",
    "version": 3
   },
   "file_extension": ".py",
   "mimetype": "text/x-python",
   "name": "python",
   "nbconvert_exporter": "python",
   "pygments_lexer": "ipython3",
   "version": "3.8.10"
  }
 },
 "nbformat": 4,
 "nbformat_minor": 5
}
