{
 "cells": [
  {
   "cell_type": "code",
   "execution_count": 4,
   "id": "eb5366a5",
   "metadata": {
    "scrolled": true
   },
   "outputs": [],
   "source": [
    "%load_ext autoreload\n",
    "%autoreload 2"
   ]
  },
  {
   "cell_type": "code",
   "execution_count": 5,
   "id": "2c79a963",
   "metadata": {},
   "outputs": [],
   "source": [
    "import warnings\n",
    "warnings.filterwarnings('ignore')"
   ]
  },
  {
   "cell_type": "code",
   "execution_count": 6,
   "id": "738c8ca2",
   "metadata": {},
   "outputs": [],
   "source": [
    "import numpy as np\n",
    "import pandas as pd\n",
    "import csv\n",
    "import seaborn as sns\n",
    "from sklearn.model_selection import train_test_split\n",
    "from wordcloud import WordCloud, STOPWORDS\n",
    "from sklearn.feature_extraction.text import TfidfVectorizer\n",
    "from sklearn.linear_model import SGDClassifier\n",
    "import matplotlib.pyplot as plt"
   ]
  },
  {
   "cell_type": "code",
   "execution_count": 7,
   "id": "fd63d369",
   "metadata": {},
   "outputs": [],
   "source": [
    "import nltk\n",
    "from nltk.corpus import stopwords\n",
    "from nltk.stem.snowball import SnowballStemmer\n",
    "from nltk.stem import wordnet\n",
    "from nltk.stem import WordNetLemmatizer\n",
    "import re\n",
    "import warnings\n",
    "import sys"
   ]
  },
  {
   "cell_type": "code",
   "execution_count": 8,
   "id": "d324a6f4",
   "metadata": {},
   "outputs": [],
   "source": [
    "# download the dataset\n",
    "# !wget https://s3-ap-southeast-1.amazonaws.com/he-public-data/dataset52a7b21.zip"
   ]
  },
  {
   "cell_type": "markdown",
   "id": "c5738cc6",
   "metadata": {},
   "source": [
    "## Data preprocessing"
   ]
  },
  {
   "cell_type": "code",
   "execution_count": 6,
   "id": "35e3ac4e",
   "metadata": {},
   "outputs": [],
   "source": [
    "df1  = pd.read_csv('dataset/train.csv', escapechar='\\\\', quoting=csv.QUOTE_NONE)"
   ]
  },
  {
   "cell_type": "code",
   "execution_count": 7,
   "id": "435bc245",
   "metadata": {},
   "outputs": [
    {
     "data": {
      "text/html": [
       "<div>\n",
       "<style scoped>\n",
       "    .dataframe tbody tr th:only-of-type {\n",
       "        vertical-align: middle;\n",
       "    }\n",
       "\n",
       "    .dataframe tbody tr th {\n",
       "        vertical-align: top;\n",
       "    }\n",
       "\n",
       "    .dataframe thead th {\n",
       "        text-align: right;\n",
       "    }\n",
       "</style>\n",
       "<table border=\"1\" class=\"dataframe\">\n",
       "  <thead>\n",
       "    <tr style=\"text-align: right;\">\n",
       "      <th></th>\n",
       "      <th>TITLE</th>\n",
       "      <th>DESCRIPTION</th>\n",
       "      <th>BULLET_POINTS</th>\n",
       "      <th>BRAND</th>\n",
       "      <th>BROWSE_NODE_ID</th>\n",
       "    </tr>\n",
       "  </thead>\n",
       "  <tbody>\n",
       "    <tr>\n",
       "      <th>0</th>\n",
       "      <td>Pete The Cat Bedtime Blues Doll, 14.5 Inch</td>\n",
       "      <td>Pete the Cat is the coolest, most popular cat ...</td>\n",
       "      <td>[Pete the Cat Bedtime Blues plush doll,Based o...</td>\n",
       "      <td>MerryMakers</td>\n",
       "      <td>0</td>\n",
       "    </tr>\n",
       "    <tr>\n",
       "      <th>1</th>\n",
       "      <td>The New Yorker NYHM014 Refrigerator Magnet, 2 ...</td>\n",
       "      <td>The New Yorker Handsome Cello Wrapped Hard Mag...</td>\n",
       "      <td>[Cat In A Tea Cup by New Yorker cover artist G...</td>\n",
       "      <td>The New Yorker</td>\n",
       "      <td>1</td>\n",
       "    </tr>\n",
       "    <tr>\n",
       "      <th>2</th>\n",
       "      <td>The Ultimate Self-Sufficiency Handbook: A Comp...</td>\n",
       "      <td>NaN</td>\n",
       "      <td>Skyhorse Publishing</td>\n",
       "      <td>imusti</td>\n",
       "      <td>2</td>\n",
       "    </tr>\n",
       "    <tr>\n",
       "      <th>3</th>\n",
       "      <td>Amway Nutrilite Kids Chewable Iron Tablets (100)</td>\n",
       "      <td>NaN</td>\n",
       "      <td>[Nutrilite Kids,Chewable Iron Tablets,Quantity...</td>\n",
       "      <td>Amway</td>\n",
       "      <td>3</td>\n",
       "    </tr>\n",
       "    <tr>\n",
       "      <th>4</th>\n",
       "      <td>Teacher Planner Company A4 6 Lesson Academic T...</td>\n",
       "      <td>NaN</td>\n",
       "      <td>NaN</td>\n",
       "      <td>NaN</td>\n",
       "      <td>4</td>\n",
       "    </tr>\n",
       "  </tbody>\n",
       "</table>\n",
       "</div>"
      ],
      "text/plain": [
       "                                               TITLE  \\\n",
       "0         Pete The Cat Bedtime Blues Doll, 14.5 Inch   \n",
       "1  The New Yorker NYHM014 Refrigerator Magnet, 2 ...   \n",
       "2  The Ultimate Self-Sufficiency Handbook: A Comp...   \n",
       "3   Amway Nutrilite Kids Chewable Iron Tablets (100)   \n",
       "4  Teacher Planner Company A4 6 Lesson Academic T...   \n",
       "\n",
       "                                         DESCRIPTION  \\\n",
       "0  Pete the Cat is the coolest, most popular cat ...   \n",
       "1  The New Yorker Handsome Cello Wrapped Hard Mag...   \n",
       "2                                                NaN   \n",
       "3                                                NaN   \n",
       "4                                                NaN   \n",
       "\n",
       "                                       BULLET_POINTS           BRAND  \\\n",
       "0  [Pete the Cat Bedtime Blues plush doll,Based o...     MerryMakers   \n",
       "1  [Cat In A Tea Cup by New Yorker cover artist G...  The New Yorker   \n",
       "2                                Skyhorse Publishing          imusti   \n",
       "3  [Nutrilite Kids,Chewable Iron Tablets,Quantity...           Amway   \n",
       "4                                                NaN             NaN   \n",
       "\n",
       "   BROWSE_NODE_ID  \n",
       "0               0  \n",
       "1               1  \n",
       "2               2  \n",
       "3               3  \n",
       "4               4  "
      ]
     },
     "execution_count": 7,
     "metadata": {},
     "output_type": "execute_result"
    }
   ],
   "source": [
    "df1.head()"
   ]
  },
  {
   "cell_type": "code",
   "execution_count": 8,
   "id": "2bcd218a",
   "metadata": {},
   "outputs": [
    {
     "data": {
      "text/plain": [
       "(2903024, 5)"
      ]
     },
     "execution_count": 8,
     "metadata": {},
     "output_type": "execute_result"
    }
   ],
   "source": [
    "df1.shape"
   ]
  },
  {
   "cell_type": "code",
   "execution_count": 9,
   "id": "af442f4c",
   "metadata": {},
   "outputs": [
    {
     "data": {
      "text/plain": [
       "TITLE              True\n",
       "DESCRIPTION        True\n",
       "BULLET_POINTS      True\n",
       "BRAND              True\n",
       "BROWSE_NODE_ID    False\n",
       "dtype: bool"
      ]
     },
     "execution_count": 9,
     "metadata": {},
     "output_type": "execute_result"
    }
   ],
   "source": [
    "#check for null value\n",
    "df1.isnull().any()"
   ]
  },
  {
   "cell_type": "code",
   "execution_count": 10,
   "id": "7467e9ab",
   "metadata": {},
   "outputs": [
    {
     "data": {
      "text/plain": [
       "(2893574, 0)"
      ]
     },
     "execution_count": 10,
     "metadata": {},
     "output_type": "execute_result"
    }
   ],
   "source": [
    "#check for min and max label\n",
    "max_label = np.max(df1.iloc[:, -1].unique())\n",
    "min_label = np.min(df1.iloc[:, -1].unique())\n",
    "max_label, min_label"
   ]
  },
  {
   "cell_type": "markdown",
   "id": "c9513782",
   "metadata": {},
   "source": [
    "__Removal of duplicated rows is also a crucial part of data preprocessing. Lets check for duplicated rows__"
   ]
  },
  {
   "cell_type": "code",
   "execution_count": 11,
   "id": "60cfb70a",
   "metadata": {},
   "outputs": [
    {
     "name": "stdout",
     "output_type": "stream",
     "text": [
      "Total number of duplicate rows =  101494\n"
     ]
    },
    {
     "data": {
      "text/html": [
       "<div>\n",
       "<style scoped>\n",
       "    .dataframe tbody tr th:only-of-type {\n",
       "        vertical-align: middle;\n",
       "    }\n",
       "\n",
       "    .dataframe tbody tr th {\n",
       "        vertical-align: top;\n",
       "    }\n",
       "\n",
       "    .dataframe thead th {\n",
       "        text-align: right;\n",
       "    }\n",
       "</style>\n",
       "<table border=\"1\" class=\"dataframe\">\n",
       "  <thead>\n",
       "    <tr style=\"text-align: right;\">\n",
       "      <th></th>\n",
       "      <th>TITLE</th>\n",
       "      <th>DESCRIPTION</th>\n",
       "      <th>BULLET_POINTS</th>\n",
       "      <th>BRAND</th>\n",
       "      <th>BROWSE_NODE_ID</th>\n",
       "    </tr>\n",
       "  </thead>\n",
       "  <tbody>\n",
       "    <tr>\n",
       "      <th>2530</th>\n",
       "      <td>Sonari Omania Women's T-Shirt Bra Pack of 2</td>\n",
       "      <td>Omania-wire-free for comfort and support. 3/4t...</td>\n",
       "      <td>[Wire-free for comfort and support.,3/4th+ cov...</td>\n",
       "      <td>Sonari</td>\n",
       "      <td>773</td>\n",
       "    </tr>\n",
       "    <tr>\n",
       "      <th>4914</th>\n",
       "      <td>La Verve Cotton Print Cushion Cover 16X16</td>\n",
       "      <td>Lounging at home gets a stylish dimension cour...</td>\n",
       "      <td>[Premium Cotton Fabric,Long Washes Durability,...</td>\n",
       "      <td>LA VERVE</td>\n",
       "      <td>912</td>\n",
       "    </tr>\n",
       "    <tr>\n",
       "      <th>9615</th>\n",
       "      <td>BeautyNeeds Armband Big Temporary Tattoo Stick...</td>\n",
       "      <td>Type: Temporary Tattoo.Note: Not intended for ...</td>\n",
       "      <td>[Type: Temporary Tattoo,Easy wear and easy clean]</td>\n",
       "      <td>BeautyNeeds</td>\n",
       "      <td>3482</td>\n",
       "    </tr>\n",
       "    <tr>\n",
       "      <th>10201</th>\n",
       "      <td>hangup Sherwani Set one top and one Bottom Set...</td>\n",
       "      <td>NaN</td>\n",
       "      <td>[MOISTURE ABSORBENT::It absorbs twice as much ...</td>\n",
       "      <td>hangup</td>\n",
       "      <td>10200</td>\n",
       "    </tr>\n",
       "    <tr>\n",
       "      <th>10237</th>\n",
       "      <td>EVALUZE Printed Soft Silicone Rubber Cover for...</td>\n",
       "      <td>Soft Silicone rubber cover having design print...</td>\n",
       "      <td>[Kindly Check this case is For Oppo A5s launch...</td>\n",
       "      <td>EVALUZE</td>\n",
       "      <td>1045</td>\n",
       "    </tr>\n",
       "  </tbody>\n",
       "</table>\n",
       "</div>"
      ],
      "text/plain": [
       "                                                   TITLE  \\\n",
       "2530         Sonari Omania Women's T-Shirt Bra Pack of 2   \n",
       "4914           La Verve Cotton Print Cushion Cover 16X16   \n",
       "9615   BeautyNeeds Armband Big Temporary Tattoo Stick...   \n",
       "10201  hangup Sherwani Set one top and one Bottom Set...   \n",
       "10237  EVALUZE Printed Soft Silicone Rubber Cover for...   \n",
       "\n",
       "                                             DESCRIPTION  \\\n",
       "2530   Omania-wire-free for comfort and support. 3/4t...   \n",
       "4914   Lounging at home gets a stylish dimension cour...   \n",
       "9615   Type: Temporary Tattoo.Note: Not intended for ...   \n",
       "10201                                                NaN   \n",
       "10237  Soft Silicone rubber cover having design print...   \n",
       "\n",
       "                                           BULLET_POINTS        BRAND  \\\n",
       "2530   [Wire-free for comfort and support.,3/4th+ cov...       Sonari   \n",
       "4914   [Premium Cotton Fabric,Long Washes Durability,...     LA VERVE   \n",
       "9615   [Type: Temporary Tattoo,Easy wear and easy clean]  BeautyNeeds   \n",
       "10201  [MOISTURE ABSORBENT::It absorbs twice as much ...       hangup   \n",
       "10237  [Kindly Check this case is For Oppo A5s launch...      EVALUZE   \n",
       "\n",
       "       BROWSE_NODE_ID  \n",
       "2530              773  \n",
       "4914              912  \n",
       "9615             3482  \n",
       "10201           10200  \n",
       "10237            1045  "
      ]
     },
     "execution_count": 11,
     "metadata": {},
     "output_type": "execute_result"
    }
   ],
   "source": [
    "#check for duplicated rows\n",
    "\n",
    "duplicates = df1[df1.duplicated()]\n",
    "\n",
    "print(\"Total number of duplicate rows = \", duplicates.shape[0])\n",
    "duplicates.head()"
   ]
  },
  {
   "cell_type": "code",
   "execution_count": 12,
   "id": "b6a8091d",
   "metadata": {},
   "outputs": [
    {
     "data": {
      "text/plain": [
       "(2801530, 5)"
      ]
     },
     "execution_count": 12,
     "metadata": {},
     "output_type": "execute_result"
    }
   ],
   "source": [
    "# remove the duplicate rows\n",
    "df2 = df1.copy().drop_duplicates(ignore_index=True)\n",
    "assert df2.shape[0] == df1.shape[0]-duplicates.shape[0]\n",
    "df2.shape"
   ]
  },
  {
   "cell_type": "code",
   "execution_count": 13,
   "id": "ad5c3c21",
   "metadata": {},
   "outputs": [
    {
     "data": {
      "text/html": [
       "<div>\n",
       "<style scoped>\n",
       "    .dataframe tbody tr th:only-of-type {\n",
       "        vertical-align: middle;\n",
       "    }\n",
       "\n",
       "    .dataframe tbody tr th {\n",
       "        vertical-align: top;\n",
       "    }\n",
       "\n",
       "    .dataframe thead th {\n",
       "        text-align: right;\n",
       "    }\n",
       "</style>\n",
       "<table border=\"1\" class=\"dataframe\">\n",
       "  <thead>\n",
       "    <tr style=\"text-align: right;\">\n",
       "      <th></th>\n",
       "      <th>TITLE</th>\n",
       "      <th>DESCRIPTION</th>\n",
       "      <th>BULLET_POINTS</th>\n",
       "      <th>BRAND</th>\n",
       "      <th>BROWSE_NODE_ID</th>\n",
       "    </tr>\n",
       "  </thead>\n",
       "  <tbody>\n",
       "    <tr>\n",
       "      <th>0</th>\n",
       "      <td>Pete The Cat Bedtime Blues Doll, 14.5 Inch</td>\n",
       "      <td>Pete the Cat is the coolest, most popular cat ...</td>\n",
       "      <td>[Pete the Cat Bedtime Blues plush doll,Based o...</td>\n",
       "      <td>MerryMakers</td>\n",
       "      <td>0</td>\n",
       "    </tr>\n",
       "    <tr>\n",
       "      <th>1</th>\n",
       "      <td>The New Yorker NYHM014 Refrigerator Magnet, 2 ...</td>\n",
       "      <td>The New Yorker Handsome Cello Wrapped Hard Mag...</td>\n",
       "      <td>[Cat In A Tea Cup by New Yorker cover artist G...</td>\n",
       "      <td>The New Yorker</td>\n",
       "      <td>1</td>\n",
       "    </tr>\n",
       "    <tr>\n",
       "      <th>2</th>\n",
       "      <td>The Ultimate Self-Sufficiency Handbook: A Comp...</td>\n",
       "      <td>NaN</td>\n",
       "      <td>Skyhorse Publishing</td>\n",
       "      <td>imusti</td>\n",
       "      <td>2</td>\n",
       "    </tr>\n",
       "    <tr>\n",
       "      <th>3</th>\n",
       "      <td>Amway Nutrilite Kids Chewable Iron Tablets (100)</td>\n",
       "      <td>NaN</td>\n",
       "      <td>[Nutrilite Kids,Chewable Iron Tablets,Quantity...</td>\n",
       "      <td>Amway</td>\n",
       "      <td>3</td>\n",
       "    </tr>\n",
       "    <tr>\n",
       "      <th>4</th>\n",
       "      <td>Teacher Planner Company A4 6 Lesson Academic T...</td>\n",
       "      <td>NaN</td>\n",
       "      <td>NaN</td>\n",
       "      <td>NaN</td>\n",
       "      <td>4</td>\n",
       "    </tr>\n",
       "  </tbody>\n",
       "</table>\n",
       "</div>"
      ],
      "text/plain": [
       "                                               TITLE  \\\n",
       "0         Pete The Cat Bedtime Blues Doll, 14.5 Inch   \n",
       "1  The New Yorker NYHM014 Refrigerator Magnet, 2 ...   \n",
       "2  The Ultimate Self-Sufficiency Handbook: A Comp...   \n",
       "3   Amway Nutrilite Kids Chewable Iron Tablets (100)   \n",
       "4  Teacher Planner Company A4 6 Lesson Academic T...   \n",
       "\n",
       "                                         DESCRIPTION  \\\n",
       "0  Pete the Cat is the coolest, most popular cat ...   \n",
       "1  The New Yorker Handsome Cello Wrapped Hard Mag...   \n",
       "2                                                NaN   \n",
       "3                                                NaN   \n",
       "4                                                NaN   \n",
       "\n",
       "                                       BULLET_POINTS           BRAND  \\\n",
       "0  [Pete the Cat Bedtime Blues plush doll,Based o...     MerryMakers   \n",
       "1  [Cat In A Tea Cup by New Yorker cover artist G...  The New Yorker   \n",
       "2                                Skyhorse Publishing          imusti   \n",
       "3  [Nutrilite Kids,Chewable Iron Tablets,Quantity...           Amway   \n",
       "4                                                NaN             NaN   \n",
       "\n",
       "   BROWSE_NODE_ID  \n",
       "0               0  \n",
       "1               1  \n",
       "2               2  \n",
       "3               3  \n",
       "4               4  "
      ]
     },
     "execution_count": 13,
     "metadata": {},
     "output_type": "execute_result"
    }
   ],
   "source": [
    "df2.head()"
   ]
  },
  {
   "cell_type": "code",
   "execution_count": 14,
   "id": "727e426a",
   "metadata": {},
   "outputs": [],
   "source": [
    "#### Remove the rows whose label count is less than a given threshold say 50 in this case"
   ]
  },
  {
   "cell_type": "code",
   "execution_count": 20,
   "id": "5b2610b4",
   "metadata": {},
   "outputs": [],
   "source": [
    "#concatenate all the columns together except the target column\n",
    "def create_concatenated_col(df2):\n",
    "    df3 = df2.copy()\n",
    "    df3['CONCATENATED'] = pd.Series(df2[df2.columns[:-1]].fillna('').values.tolist()).str.join(' ')\n",
    "    return df3"
   ]
  },
  {
   "cell_type": "code",
   "execution_count": 23,
   "id": "203ae244",
   "metadata": {},
   "outputs": [],
   "source": [
    "# dfg = create_concatenated_col(df2)\n",
    "# dfg['CONCATENATED'][0]"
   ]
  },
  {
   "cell_type": "code",
   "execution_count": 24,
   "id": "5be62004",
   "metadata": {},
   "outputs": [
    {
     "data": {
      "text/plain": [
       "Index(['TITLE', 'DESCRIPTION', 'BULLET_POINTS', 'BRAND', 'BROWSE_NODE_ID'], dtype='object')"
      ]
     },
     "execution_count": 24,
     "metadata": {},
     "output_type": "execute_result"
    }
   ],
   "source": [
    "df2.columns"
   ]
  },
  {
   "cell_type": "code",
   "execution_count": 25,
   "id": "ee5d7dc2",
   "metadata": {},
   "outputs": [],
   "source": [
    "#clean the CONCATENATED  column\n",
    "stopword = set(stopwords.words('english'))\n",
    "word_len  = WordNetLemmatizer()\n",
    "\n",
    "def cleanPunctuation(sentence):\n",
    "    '''clean the punctuations'''\n",
    "\n",
    "    cl_sentence  = re.sub(r'[?|!|\\'|\"|#|\\_]',r'',sentence)\n",
    "    cl_sentence = re.sub(r'[.|,|)|(|\\|/]',r'',cl_sentence)\n",
    "    cl_sentence = re.sub(r'\\\\',r'',cl_sentence)\n",
    "    cl_sentence = re.sub(r'[\\[\\]]',r'',cl_sentence)\n",
    "    cl_sentence = cl_sentence.strip()\n",
    "    cl_sentence = cl_sentence.replace(\"\\n\",\" \")\n",
    "    return cl_sentence\n",
    "\n",
    "def keepAlphabet(sentence):\n",
    "    '''keep only alphabets'''\n",
    "    alpha_sent = \"\"\n",
    "    for word in sentence.split():\n",
    "        alpha_word = re.sub('[^a-z A-z]+',' ',word)\n",
    "        alpha_sent +=alpha_word\n",
    "        alpha_sent+=\" \"\n",
    "    alpha_sent =alpha_sent.strip()\n",
    "    \n",
    "    return alpha_sent\n",
    "\n",
    "def remove_stopwords(sentence):\n",
    "    '''removes stopwords'''\n",
    "    sentence = sentence.lower()\n",
    "    re_stop_words = re.compile(r\"\\b(\"+\"|\".join(stopword) + \")\\\\W\", re.I)\n",
    "    return re_stop_words.sub(\" \", sentence)\n",
    "\n",
    "def lemmatize(sentence):\n",
    "    '''lemmatization'''\n",
    "    stemSentence =[]\n",
    "    \n",
    "    for word in sentence.split():\n",
    "        stem  = word_len.lemmatize(word)\n",
    "        stemSentence.append(stem)\n",
    "        \n",
    "\n",
    "    return \" \".join(stemSentence)"
   ]
  },
  {
   "cell_type": "code",
   "execution_count": 26,
   "id": "39ffa2bb",
   "metadata": {},
   "outputs": [],
   "source": [
    "def clean_sentences(df2):\n",
    "    df3 = create_concatenated_col(df2)\n",
    "    #punctuaion cleaning\n",
    "    df3['CONCATENATED'] = df3['CONCATENATED'].apply(cleanPunctuation)\n",
    "    print(\"punctuation cleaning done.\")\n",
    "    \n",
    "    #remove unncecessary alphabets\n",
    "    df3['CONCATENATED'] = df3['CONCATENATED'].apply(keepAlphabet)\n",
    "    print(\"Unnecessary alphabets removed.\")\n",
    "    \n",
    "    #remove stopwords\n",
    "    df3['CONCATENATED'] = df3['CONCATENATED'].apply(remove_stopwords)\n",
    "    print(\"Stopwords removed.\")\n",
    "    \n",
    "    #lemmatization\n",
    "    df3['CONCATENATED'] = df3['CONCATENATED'].apply(lemmatize)\n",
    "    print('Lemmatization done.')\n",
    "    return df3\n",
    "    "
   ]
  },
  {
   "cell_type": "code",
   "execution_count": 27,
   "id": "62d415fa",
   "metadata": {},
   "outputs": [
    {
     "name": "stdout",
     "output_type": "stream",
     "text": [
      "punctuation cleaning done.\n",
      "Unnecessary alphabets removed.\n",
      "Stopwords removed.\n",
      "Lemmatization done.\n",
      "CPU times: user 30min 56s, sys: 22.1 s, total: 31min 18s\n",
      "Wall time: 31min 24s\n"
     ]
    }
   ],
   "source": [
    "%%time\n",
    "# clean the sentences\n",
    "df3 = clean_sentences(df2)"
   ]
  },
  {
   "cell_type": "code",
   "execution_count": 33,
   "id": "e92287e8",
   "metadata": {},
   "outputs": [
    {
     "data": {
      "text/html": [
       "<div>\n",
       "<style scoped>\n",
       "    .dataframe tbody tr th:only-of-type {\n",
       "        vertical-align: middle;\n",
       "    }\n",
       "\n",
       "    .dataframe tbody tr th {\n",
       "        vertical-align: top;\n",
       "    }\n",
       "\n",
       "    .dataframe thead th {\n",
       "        text-align: right;\n",
       "    }\n",
       "</style>\n",
       "<table border=\"1\" class=\"dataframe\">\n",
       "  <thead>\n",
       "    <tr style=\"text-align: right;\">\n",
       "      <th></th>\n",
       "      <th>TITLE</th>\n",
       "      <th>DESCRIPTION</th>\n",
       "      <th>BULLET_POINTS</th>\n",
       "      <th>BRAND</th>\n",
       "      <th>BROWSE_NODE_ID</th>\n",
       "      <th>CONCATENATED</th>\n",
       "    </tr>\n",
       "  </thead>\n",
       "  <tbody>\n",
       "    <tr>\n",
       "      <th>0</th>\n",
       "      <td>Pete The Cat Bedtime Blues Doll, 14.5 Inch</td>\n",
       "      <td>Pete the Cat is the coolest, most popular cat ...</td>\n",
       "      <td>[Pete the Cat Bedtime Blues plush doll,Based o...</td>\n",
       "      <td>MerryMakers</td>\n",
       "      <td>0</td>\n",
       "      <td>pete cat bedtime blue doll inch pete cat coole...</td>\n",
       "    </tr>\n",
       "    <tr>\n",
       "      <th>1</th>\n",
       "      <td>The New Yorker NYHM014 Refrigerator Magnet, 2 ...</td>\n",
       "      <td>The New Yorker Handsome Cello Wrapped Hard Mag...</td>\n",
       "      <td>[Cat In A Tea Cup by New Yorker cover artist G...</td>\n",
       "      <td>The New Yorker</td>\n",
       "      <td>1</td>\n",
       "      <td>new yorker nyhm refrigerator magnet x new york...</td>\n",
       "    </tr>\n",
       "    <tr>\n",
       "      <th>2</th>\n",
       "      <td>The Ultimate Self-Sufficiency Handbook: A Comp...</td>\n",
       "      <td>NaN</td>\n",
       "      <td>Skyhorse Publishing</td>\n",
       "      <td>imusti</td>\n",
       "      <td>2</td>\n",
       "      <td>ultimate self sufficiency handbook complete gu...</td>\n",
       "    </tr>\n",
       "    <tr>\n",
       "      <th>3</th>\n",
       "      <td>Amway Nutrilite Kids Chewable Iron Tablets (100)</td>\n",
       "      <td>NaN</td>\n",
       "      <td>[Nutrilite Kids,Chewable Iron Tablets,Quantity...</td>\n",
       "      <td>Amway</td>\n",
       "      <td>3</td>\n",
       "      <td>amway nutrilite kid chewable iron tablet nutri...</td>\n",
       "    </tr>\n",
       "    <tr>\n",
       "      <th>4</th>\n",
       "      <td>Teacher Planner Company A4 6 Lesson Academic T...</td>\n",
       "      <td>NaN</td>\n",
       "      <td>NaN</td>\n",
       "      <td>NaN</td>\n",
       "      <td>4</td>\n",
       "      <td>teacher planner company lesson academic teache...</td>\n",
       "    </tr>\n",
       "  </tbody>\n",
       "</table>\n",
       "</div>"
      ],
      "text/plain": [
       "                                               TITLE  \\\n",
       "0         Pete The Cat Bedtime Blues Doll, 14.5 Inch   \n",
       "1  The New Yorker NYHM014 Refrigerator Magnet, 2 ...   \n",
       "2  The Ultimate Self-Sufficiency Handbook: A Comp...   \n",
       "3   Amway Nutrilite Kids Chewable Iron Tablets (100)   \n",
       "4  Teacher Planner Company A4 6 Lesson Academic T...   \n",
       "\n",
       "                                         DESCRIPTION  \\\n",
       "0  Pete the Cat is the coolest, most popular cat ...   \n",
       "1  The New Yorker Handsome Cello Wrapped Hard Mag...   \n",
       "2                                                NaN   \n",
       "3                                                NaN   \n",
       "4                                                NaN   \n",
       "\n",
       "                                       BULLET_POINTS           BRAND  \\\n",
       "0  [Pete the Cat Bedtime Blues plush doll,Based o...     MerryMakers   \n",
       "1  [Cat In A Tea Cup by New Yorker cover artist G...  The New Yorker   \n",
       "2                                Skyhorse Publishing          imusti   \n",
       "3  [Nutrilite Kids,Chewable Iron Tablets,Quantity...           Amway   \n",
       "4                                                NaN             NaN   \n",
       "\n",
       "   BROWSE_NODE_ID                                       CONCATENATED  \n",
       "0               0  pete cat bedtime blue doll inch pete cat coole...  \n",
       "1               1  new yorker nyhm refrigerator magnet x new york...  \n",
       "2               2  ultimate self sufficiency handbook complete gu...  \n",
       "3               3  amway nutrilite kid chewable iron tablet nutri...  \n",
       "4               4  teacher planner company lesson academic teache...  "
      ]
     },
     "execution_count": 33,
     "metadata": {},
     "output_type": "execute_result"
    }
   ],
   "source": [
    "df3.head()"
   ]
  },
  {
   "cell_type": "markdown",
   "id": "5797a16c",
   "metadata": {},
   "source": [
    "Since we have done data cleaning, lets save it for future use."
   ]
  },
  {
   "cell_type": "code",
   "execution_count": 34,
   "id": "b4223969",
   "metadata": {},
   "outputs": [],
   "source": [
    "#save tha cleaned dataframe\n",
    "temp_df = df3[['BROWSE_NODE_ID', 'CONCATENATED']] # without normalized labels\n",
    "temp_df.to_csv('cleaned_df_final.csv', index=False)"
   ]
  },
  {
   "cell_type": "code",
   "execution_count": null,
   "id": "1d742f64",
   "metadata": {},
   "outputs": [],
   "source": []
  },
  {
   "cell_type": "markdown",
   "id": "80b0e8ac",
   "metadata": {},
   "source": [
    "## Baseline Model"
   ]
  },
  {
   "cell_type": "code",
   "execution_count": 72,
   "id": "2454c8ee",
   "metadata": {},
   "outputs": [],
   "source": [
    "#read the cleaned dataset\n",
    "df3 = pd.read_csv('cleaned_df_final.csv')"
   ]
  },
  {
   "cell_type": "code",
   "execution_count": 73,
   "id": "6fe897c0",
   "metadata": {},
   "outputs": [
    {
     "data": {
      "text/html": [
       "<div>\n",
       "<style scoped>\n",
       "    .dataframe tbody tr th:only-of-type {\n",
       "        vertical-align: middle;\n",
       "    }\n",
       "\n",
       "    .dataframe tbody tr th {\n",
       "        vertical-align: top;\n",
       "    }\n",
       "\n",
       "    .dataframe thead th {\n",
       "        text-align: right;\n",
       "    }\n",
       "</style>\n",
       "<table border=\"1\" class=\"dataframe\">\n",
       "  <thead>\n",
       "    <tr style=\"text-align: right;\">\n",
       "      <th></th>\n",
       "      <th>BROWSE_NODE_ID</th>\n",
       "      <th>CONCATENATED</th>\n",
       "    </tr>\n",
       "  </thead>\n",
       "  <tbody>\n",
       "    <tr>\n",
       "      <th>0</th>\n",
       "      <td>0</td>\n",
       "      <td>pete cat bedtime blue doll inch pete cat coole...</td>\n",
       "    </tr>\n",
       "    <tr>\n",
       "      <th>1</th>\n",
       "      <td>1</td>\n",
       "      <td>new yorker nyhm refrigerator magnet x new york...</td>\n",
       "    </tr>\n",
       "    <tr>\n",
       "      <th>2</th>\n",
       "      <td>2</td>\n",
       "      <td>ultimate self sufficiency handbook complete gu...</td>\n",
       "    </tr>\n",
       "    <tr>\n",
       "      <th>3</th>\n",
       "      <td>3</td>\n",
       "      <td>amway nutrilite kid chewable iron tablet nutri...</td>\n",
       "    </tr>\n",
       "    <tr>\n",
       "      <th>4</th>\n",
       "      <td>4</td>\n",
       "      <td>teacher planner company lesson academic teache...</td>\n",
       "    </tr>\n",
       "  </tbody>\n",
       "</table>\n",
       "</div>"
      ],
      "text/plain": [
       "   BROWSE_NODE_ID                                       CONCATENATED\n",
       "0               0  pete cat bedtime blue doll inch pete cat coole...\n",
       "1               1  new yorker nyhm refrigerator magnet x new york...\n",
       "2               2  ultimate self sufficiency handbook complete gu...\n",
       "3               3  amway nutrilite kid chewable iron tablet nutri...\n",
       "4               4  teacher planner company lesson academic teache..."
      ]
     },
     "execution_count": 73,
     "metadata": {},
     "output_type": "execute_result"
    }
   ],
   "source": [
    "df3.head()"
   ]
  },
  {
   "cell_type": "code",
   "execution_count": 11,
   "id": "12ab638f",
   "metadata": {},
   "outputs": [
    {
     "data": {
      "text/plain": [
       "(2801530, 2)"
      ]
     },
     "execution_count": 11,
     "metadata": {},
     "output_type": "execute_result"
    }
   ],
   "source": [
    "df3.shape"
   ]
  },
  {
   "cell_type": "code",
   "execution_count": 75,
   "id": "6482bd3a",
   "metadata": {},
   "outputs": [
    {
     "data": {
      "text/plain": [
       "9919"
      ]
     },
     "execution_count": 75,
     "metadata": {},
     "output_type": "execute_result"
    }
   ],
   "source": [
    "len(np.unique(df3.BROWSE_NODE_ID))"
   ]
  },
  {
   "cell_type": "code",
   "execution_count": 12,
   "id": "4e75ff1f",
   "metadata": {},
   "outputs": [],
   "source": [
    "from collections import Counter"
   ]
  },
  {
   "cell_type": "code",
   "execution_count": 76,
   "id": "c2c97d02",
   "metadata": {},
   "outputs": [],
   "source": [
    "# #find the count for each labels\n",
    "counter = Counter(df3['BROWSE_NODE_ID'])"
   ]
  },
  {
   "cell_type": "code",
   "execution_count": 77,
   "id": "0043edd6",
   "metadata": {
    "scrolled": true
   },
   "outputs": [
    {
     "name": "stdout",
     "output_type": "stream",
     "text": [
      "Total number of labels whose count is less than 10 :  6643\n",
      "Total number of rows to be dropped :  105909\n"
     ]
    }
   ],
   "source": [
    "# make a note of all the labels whose count is less than 50\n",
    "drop_labels = []\n",
    "cnt = 0\n",
    "num_rows_total = 0\n",
    "for a, b in counter.most_common()[::-1]:\n",
    "    if b < 60:\n",
    "        cnt+=1\n",
    "        num_rows_total+=b\n",
    "        drop_labels.append(a)\n",
    "print(\"Total number of labels whose count is less than 10 : \",cnt)\n",
    "print(\"Total number of rows to be dropped : \", num_rows_total)"
   ]
  },
  {
   "cell_type": "code",
   "execution_count": 78,
   "id": "29c6d72f",
   "metadata": {},
   "outputs": [],
   "source": [
    "new_df = df3.set_index('BROWSE_NODE_ID')"
   ]
  },
  {
   "cell_type": "code",
   "execution_count": 79,
   "id": "beda0cd6",
   "metadata": {},
   "outputs": [
    {
     "data": {
      "text/plain": [
       "(2801530, 1)"
      ]
     },
     "execution_count": 79,
     "metadata": {},
     "output_type": "execute_result"
    }
   ],
   "source": [
    "new_df.shape"
   ]
  },
  {
   "cell_type": "code",
   "execution_count": 80,
   "id": "28ba8f07",
   "metadata": {},
   "outputs": [
    {
     "data": {
      "text/plain": [
       "(2695621, 1)"
      ]
     },
     "execution_count": 80,
     "metadata": {},
     "output_type": "execute_result"
    }
   ],
   "source": [
    "#drop the rows whose count is less than a given threshold\n",
    "df3 = new_df.drop(drop_labels)\n",
    "df3.shape"
   ]
  },
  {
   "cell_type": "code",
   "execution_count": 81,
   "id": "b8ee7f6a",
   "metadata": {},
   "outputs": [
    {
     "data": {
      "text/html": [
       "<div>\n",
       "<style scoped>\n",
       "    .dataframe tbody tr th:only-of-type {\n",
       "        vertical-align: middle;\n",
       "    }\n",
       "\n",
       "    .dataframe tbody tr th {\n",
       "        vertical-align: top;\n",
       "    }\n",
       "\n",
       "    .dataframe thead th {\n",
       "        text-align: right;\n",
       "    }\n",
       "</style>\n",
       "<table border=\"1\" class=\"dataframe\">\n",
       "  <thead>\n",
       "    <tr style=\"text-align: right;\">\n",
       "      <th></th>\n",
       "      <th>BROWSE_NODE_ID</th>\n",
       "      <th>CONCATENATED</th>\n",
       "    </tr>\n",
       "  </thead>\n",
       "  <tbody>\n",
       "    <tr>\n",
       "      <th>0</th>\n",
       "      <td>0</td>\n",
       "      <td>pete cat bedtime blue doll inch pete cat coole...</td>\n",
       "    </tr>\n",
       "    <tr>\n",
       "      <th>1</th>\n",
       "      <td>1</td>\n",
       "      <td>new yorker nyhm refrigerator magnet x new york...</td>\n",
       "    </tr>\n",
       "    <tr>\n",
       "      <th>2</th>\n",
       "      <td>3</td>\n",
       "      <td>amway nutrilite kid chewable iron tablet nutri...</td>\n",
       "    </tr>\n",
       "    <tr>\n",
       "      <th>3</th>\n",
       "      <td>4</td>\n",
       "      <td>teacher planner company lesson academic teache...</td>\n",
       "    </tr>\n",
       "    <tr>\n",
       "      <th>4</th>\n",
       "      <td>5</td>\n",
       "      <td>men full sleeve raglan shirt denim shirt size ...</td>\n",
       "    </tr>\n",
       "  </tbody>\n",
       "</table>\n",
       "</div>"
      ],
      "text/plain": [
       "   BROWSE_NODE_ID                                       CONCATENATED\n",
       "0               0  pete cat bedtime blue doll inch pete cat coole...\n",
       "1               1  new yorker nyhm refrigerator magnet x new york...\n",
       "2               3  amway nutrilite kid chewable iron tablet nutri...\n",
       "3               4  teacher planner company lesson academic teache...\n",
       "4               5  men full sleeve raglan shirt denim shirt size ..."
      ]
     },
     "execution_count": 81,
     "metadata": {},
     "output_type": "execute_result"
    }
   ],
   "source": [
    "df3.reset_index(inplace=True)\n",
    "df3.head()"
   ]
  },
  {
   "cell_type": "code",
   "execution_count": 82,
   "id": "93b82891",
   "metadata": {},
   "outputs": [
    {
     "data": {
      "text/plain": [
       "(2695621, 2)"
      ]
     },
     "execution_count": 82,
     "metadata": {},
     "output_type": "execute_result"
    }
   ],
   "source": [
    "df3.shape"
   ]
  },
  {
   "cell_type": "code",
   "execution_count": 83,
   "id": "1341b675",
   "metadata": {},
   "outputs": [],
   "source": [
    "#sanity check\n",
    "assert df3.shape[0] == new_df.shape[0]-num_rows_total"
   ]
  },
  {
   "cell_type": "code",
   "execution_count": 84,
   "id": "31a705ba",
   "metadata": {},
   "outputs": [
    {
     "name": "stdout",
     "output_type": "stream",
     "text": [
      "columns\t\t\tnum_missing_value\n",
      "\n",
      "CONCATENATED    :                50\n"
     ]
    }
   ],
   "source": [
    "#print number of missing rows for each col\n",
    "columns = df3.columns[1:]\n",
    "print('columns\\t\\t\\tnum_missing_value\\n') \n",
    "for col in columns:\n",
    "       print('{0:<15} : {1:>17}'.format(col, df3[col].isna().sum()))"
   ]
  },
  {
   "cell_type": "code",
   "execution_count": 85,
   "id": "dcabf80b",
   "metadata": {},
   "outputs": [
    {
     "data": {
      "text/plain": [
       "(335582, 0)"
      ]
     },
     "execution_count": 85,
     "metadata": {},
     "output_type": "execute_result"
    }
   ],
   "source": [
    "max_label = np.max(df3.iloc[:, 0].unique())\n",
    "min_label = np.min(df3.iloc[:, 0].unique())\n",
    "max_label, min_label"
   ]
  },
  {
   "cell_type": "code",
   "execution_count": 86,
   "id": "511dd8d2",
   "metadata": {},
   "outputs": [],
   "source": [
    "## normlaize the labels\n",
    "def label_normalisation(unique_labels, labels):\n",
    "    label = labels.copy()\n",
    "    dict_map = {}\n",
    "    for i, ele in enumerate(unique_labels):\n",
    "        dict_map[ele] = i\n",
    "    for i in range(len(label)):\n",
    "        label[i] = dict_map[label[i]]\n",
    "    return label, dict_map\n",
    "        "
   ]
  },
  {
   "cell_type": "code",
   "execution_count": 87,
   "id": "e0837655",
   "metadata": {},
   "outputs": [
    {
     "data": {
      "text/plain": [
       "3276"
      ]
     },
     "execution_count": 87,
     "metadata": {},
     "output_type": "execute_result"
    }
   ],
   "source": [
    "#total number of unique labels\n",
    "unique_labels = df3.iloc[:, 0].unique()\n",
    "num_labels = len(unique_labels)\n",
    "num_labels"
   ]
  },
  {
   "cell_type": "code",
   "execution_count": 88,
   "id": "49f3fdf8",
   "metadata": {},
   "outputs": [
    {
     "data": {
      "text/html": [
       "<div>\n",
       "<style scoped>\n",
       "    .dataframe tbody tr th:only-of-type {\n",
       "        vertical-align: middle;\n",
       "    }\n",
       "\n",
       "    .dataframe tbody tr th {\n",
       "        vertical-align: top;\n",
       "    }\n",
       "\n",
       "    .dataframe thead th {\n",
       "        text-align: right;\n",
       "    }\n",
       "</style>\n",
       "<table border=\"1\" class=\"dataframe\">\n",
       "  <thead>\n",
       "    <tr style=\"text-align: right;\">\n",
       "      <th></th>\n",
       "      <th>BROWSE_NODE_ID</th>\n",
       "      <th>CONCATENATED</th>\n",
       "    </tr>\n",
       "  </thead>\n",
       "  <tbody>\n",
       "    <tr>\n",
       "      <th>0</th>\n",
       "      <td>0</td>\n",
       "      <td>pete cat bedtime blue doll inch pete cat coole...</td>\n",
       "    </tr>\n",
       "    <tr>\n",
       "      <th>1</th>\n",
       "      <td>1</td>\n",
       "      <td>new yorker nyhm refrigerator magnet x new york...</td>\n",
       "    </tr>\n",
       "    <tr>\n",
       "      <th>2</th>\n",
       "      <td>2</td>\n",
       "      <td>amway nutrilite kid chewable iron tablet nutri...</td>\n",
       "    </tr>\n",
       "    <tr>\n",
       "      <th>3</th>\n",
       "      <td>3</td>\n",
       "      <td>teacher planner company lesson academic teache...</td>\n",
       "    </tr>\n",
       "    <tr>\n",
       "      <th>4</th>\n",
       "      <td>4</td>\n",
       "      <td>men full sleeve raglan shirt denim shirt size ...</td>\n",
       "    </tr>\n",
       "  </tbody>\n",
       "</table>\n",
       "</div>"
      ],
      "text/plain": [
       "   BROWSE_NODE_ID                                       CONCATENATED\n",
       "0               0  pete cat bedtime blue doll inch pete cat coole...\n",
       "1               1  new yorker nyhm refrigerator magnet x new york...\n",
       "2               2  amway nutrilite kid chewable iron tablet nutri...\n",
       "3               3  teacher planner company lesson academic teache...\n",
       "4               4  men full sleeve raglan shirt denim shirt size ..."
      ]
     },
     "execution_count": 88,
     "metadata": {},
     "output_type": "execute_result"
    }
   ],
   "source": [
    "# map normalized labels\n",
    "\n",
    "orig_labels = df3['BROWSE_NODE_ID'].to_numpy()\n",
    "new_labels, dict_map = label_normalisation(unique_labels, orig_labels)\n",
    "df4 = df3.copy()\n",
    "df4['BROWSE_NODE_ID'] = new_labels\n",
    "df4.head()"
   ]
  },
  {
   "cell_type": "code",
   "execution_count": 89,
   "id": "7cc901b6",
   "metadata": {},
   "outputs": [
    {
     "data": {
      "text/plain": [
       "(3275, 0)"
      ]
     },
     "execution_count": 89,
     "metadata": {},
     "output_type": "execute_result"
    }
   ],
   "source": [
    "max_label = np.max(df4.iloc[:, 0].unique())\n",
    "min_label = np.min(df4.iloc[:, 0].unique())\n",
    "max_label, min_label"
   ]
  },
  {
   "cell_type": "code",
   "execution_count": 90,
   "id": "bc5e5e48",
   "metadata": {},
   "outputs": [
    {
     "data": {
      "text/plain": [
       "BROWSE_NODE_ID    False\n",
       "CONCATENATED       True\n",
       "dtype: bool"
      ]
     },
     "execution_count": 90,
     "metadata": {},
     "output_type": "execute_result"
    }
   ],
   "source": [
    "df4.isna().any()"
   ]
  },
  {
   "cell_type": "code",
   "execution_count": 91,
   "id": "1e936cae",
   "metadata": {},
   "outputs": [
    {
     "data": {
      "text/plain": [
       "BROWSE_NODE_ID    False\n",
       "CONCATENATED      False\n",
       "dtype: bool"
      ]
     },
     "execution_count": 91,
     "metadata": {},
     "output_type": "execute_result"
    }
   ],
   "source": [
    "df4.dropna(inplace=True)\n",
    "df4.isna().any()"
   ]
  },
  {
   "cell_type": "code",
   "execution_count": 92,
   "id": "2287a14d",
   "metadata": {},
   "outputs": [],
   "source": [
    "from sklearn.feature_extraction.text import HashingVectorizer"
   ]
  },
  {
   "cell_type": "code",
   "execution_count": 93,
   "id": "973657c8",
   "metadata": {},
   "outputs": [],
   "source": [
    "full_text = pd.concat([df4['CONCATENATED'], test_text])"
   ]
  },
  {
   "cell_type": "code",
   "execution_count": 94,
   "id": "add5fa38",
   "metadata": {},
   "outputs": [
    {
     "name": "stdout",
     "output_type": "stream",
     "text": [
      "CPU times: user 1min 23s, sys: 1.61 s, total: 1min 25s\n",
      "Wall time: 1min 26s\n"
     ]
    }
   ],
   "source": [
    "%%time\n",
    "vectorizer = HashingVectorizer(decode_error='ignore', n_features=2 ** 18,\n",
    "                               alternate_sign=False)\n",
    "# vectorizer = TfidfVectorizer(analyzer='word')\n",
    "\n",
    "vectorizer.fit(full_text)\n",
    "word_embeddings = vectorizer.transform(df4.CONCATENATED)"
   ]
  },
  {
   "cell_type": "code",
   "execution_count": 95,
   "id": "cfcec910",
   "metadata": {},
   "outputs": [
    {
     "data": {
      "text/plain": [
       "(2695571, 262144)"
      ]
     },
     "execution_count": 95,
     "metadata": {},
     "output_type": "execute_result"
    }
   ],
   "source": [
    "word_embeddings.shape"
   ]
  },
  {
   "cell_type": "code",
   "execution_count": 96,
   "id": "a19ee66a",
   "metadata": {},
   "outputs": [],
   "source": [
    "import scipy"
   ]
  },
  {
   "cell_type": "code",
   "execution_count": 97,
   "id": "8c21eaea",
   "metadata": {},
   "outputs": [],
   "source": [
    "#save word embeddings\n",
    "scipy.sparse.save_npz('/tmp/word_embeddings.npz', word_embeddings)\n"
   ]
  },
  {
   "cell_type": "code",
   "execution_count": 98,
   "id": "30620edd",
   "metadata": {},
   "outputs": [],
   "source": [
    "# split into train and test\n",
    "x_train, x_dev, y_train, y_dev = train_test_split(word_embeddings, df4['BROWSE_NODE_ID'], random_state=4, test_size = 0.05, shuffle = True)"
   ]
  },
  {
   "cell_type": "code",
   "execution_count": 99,
   "id": "627d86fd",
   "metadata": {},
   "outputs": [
    {
     "name": "stdout",
     "output_type": "stream",
     "text": [
      "Training data shape :  (2560792, 262144) (2560792,)\n",
      "Development data shape :  (134779, 262144) (134779,)\n"
     ]
    }
   ],
   "source": [
    "print(\"Training data shape : \", x_train.shape, y_train.shape)\n",
    "print(\"Development data shape : \", x_dev.shape, y_dev.shape)"
   ]
  },
  {
   "cell_type": "markdown",
   "id": "9b94df05",
   "metadata": {},
   "source": [
    "### dimensionality reduction"
   ]
  },
  {
   "cell_type": "code",
   "execution_count": 100,
   "id": "25637c70",
   "metadata": {},
   "outputs": [],
   "source": [
    "from sklearn.linear_model import LogisticRegression\n",
    "from sklearn.pipeline import Pipeline\n",
    "from sklearn.metrics import f1_score,accuracy_score\n",
    "from sklearn.multiclass import OneVsRestClassifier\n",
    "from sklearn.naive_bayes import MultinomialNB"
   ]
  },
  {
   "cell_type": "code",
   "execution_count": 101,
   "id": "cb22579e",
   "metadata": {},
   "outputs": [],
   "source": [
    "def size_mb(docs):\n",
    "    return sum(len(s) for s in docs) / 1e6"
   ]
  },
  {
   "cell_type": "code",
   "execution_count": 102,
   "id": "2d5ec84b",
   "metadata": {
    "scrolled": true
   },
   "outputs": [
    {
     "name": "stdout",
     "output_type": "stream",
     "text": [
      "train data size : 1827.200374Mb\n"
     ]
    }
   ],
   "source": [
    "#get the size of training and dev data\n",
    "train_size = size_mb(df4.CONCATENATED.values)\n",
    "print(\"train data size : {}Mb\".format(train_size))"
   ]
  },
  {
   "cell_type": "code",
   "execution_count": 103,
   "id": "cd975b3e",
   "metadata": {},
   "outputs": [],
   "source": [
    "import random"
   ]
  },
  {
   "cell_type": "code",
   "execution_count": 104,
   "id": "d94b74ad",
   "metadata": {},
   "outputs": [],
   "source": [
    "import joblib"
   ]
  },
  {
   "cell_type": "markdown",
   "id": "97e0bc94",
   "metadata": {},
   "source": [
    "## Classification"
   ]
  },
  {
   "cell_type": "code",
   "execution_count": 105,
   "id": "67a7b37b",
   "metadata": {},
   "outputs": [],
   "source": [
    "from sklearn.linear_model import SGDClassifier\n",
    "from sklearn.linear_model import PassiveAggressiveClassifier\n",
    "from sklearn.linear_model import Perceptron\n",
    "from sklearn.naive_bayes import MultinomialNB"
   ]
  },
  {
   "cell_type": "code",
   "execution_count": 106,
   "id": "86e8590f",
   "metadata": {},
   "outputs": [],
   "source": [
    "partial_fit_classifiers = {\n",
    "#     'SGD': SGDClassifier(loss='log', max_iter=5, n_jobs=-1),\n",
    "#     'Perceptron': Perceptron(n_jobs=-1),\n",
    "#     'NB Multinomial': MultinomialNB(alpha=0.01),\n",
    "    'Passive-Aggressive': PassiveAggressiveClassifier(n_jobs=-1, random_state=42)\n",
    "}"
   ]
  },
  {
   "cell_type": "code",
   "execution_count": 108,
   "id": "ef2663f9",
   "metadata": {},
   "outputs": [],
   "source": [
    "def get_minibatches(x_train, y_train):\n",
    "    # Since the dataset size is huge, we will go for partial fit\n",
    "    CHUNK_SIZE = 40000\n",
    "    classes = np.unique(df4['BROWSE_NODE_ID'])\n",
    "    n_iter = (x_train.shape[0]//CHUNK_SIZE)-1\n",
    "    batches = []\n",
    "    for i in range(0 ,n_iter):\n",
    "        x = x_train[i*CHUNK_SIZE:(i+1)*CHUNK_SIZE]\n",
    "        y = y_train[i*CHUNK_SIZE:(i+1)*CHUNK_SIZE]\n",
    "        batches.append([x, y])\n",
    "    return batches\n",
    "\n"
   ]
  },
  {
   "cell_type": "code",
   "execution_count": 109,
   "id": "70343925",
   "metadata": {},
   "outputs": [
    {
     "name": "stdout",
     "output_type": "stream",
     "text": [
      "CPU times: user 464 ms, sys: 686 ms, total: 1.15 s\n",
      "Wall time: 1.4 s\n"
     ]
    }
   ],
   "source": [
    "%%time\n",
    "batches = get_minibatches(x_train, y_train)"
   ]
  },
  {
   "cell_type": "code",
   "execution_count": 110,
   "id": "24f3bcd9",
   "metadata": {},
   "outputs": [
    {
     "data": {
      "text/plain": [
       "63"
      ]
     },
     "execution_count": 110,
     "metadata": {},
     "output_type": "execute_result"
    }
   ],
   "source": [
    "len(batches)"
   ]
  },
  {
   "cell_type": "code",
   "execution_count": 111,
   "id": "36bc2360",
   "metadata": {
    "scrolled": true
   },
   "outputs": [
    {
     "name": "stdout",
     "output_type": "stream",
     "text": [
      "3276\n",
      "iter[0]\t\tclassifier (Passive-Aggressive)\t\taccuracy (0.5994554047737407)\n",
      "learning from step 1\n",
      "learning from step 2\n",
      "iter[3]\t\tclassifier (Passive-Aggressive)\t\taccuracy (0.6765000482270976)\n",
      "learning from step 4\n",
      "learning from step 5\n",
      "iter[6]\t\tclassifier (Passive-Aggressive)\t\taccuracy (0.69951550315702)\n",
      "learning from step 7\n",
      "learning from step 8\n",
      "iter[9]\t\tclassifier (Passive-Aggressive)\t\taccuracy (0.7099696540262207)\n",
      "learning from step 10\n",
      "learning from step 11\n",
      "iter[12]\t\tclassifier (Passive-Aggressive)\t\taccuracy (0.7194444238345736)\n",
      "learning from step 13\n",
      "learning from step 14\n",
      "iter[15]\t\tclassifier (Passive-Aggressive)\t\taccuracy (0.7248606978832014)\n",
      "learning from step 16\n",
      "learning from step 17\n",
      "iter[18]\t\tclassifier (Passive-Aggressive)\t\taccuracy (0.7300321266666172)\n",
      "learning from step 19\n",
      "learning from step 20\n",
      "iter[21]\t\tclassifier (Passive-Aggressive)\t\taccuracy (0.735448400715245)\n",
      "learning from step 22\n",
      "learning from step 23\n",
      "iter[24]\t\tclassifier (Passive-Aggressive)\t\taccuracy (0.737859755599908)\n",
      "learning from step 25\n",
      "learning from step 26\n",
      "iter[27]\t\tclassifier (Passive-Aggressive)\t\taccuracy (0.741777279843299)\n",
      "learning from step 28\n",
      "learning from step 29\n",
      "iter[30]\t\tclassifier (Passive-Aggressive)\t\taccuracy (0.7439289503557676)\n",
      "learning from step 31\n",
      "learning from step 32\n",
      "iter[33]\t\tclassifier (Passive-Aggressive)\t\taccuracy (0.7460138448868147)\n",
      "learning from step 34\n",
      "learning from step 35\n",
      "iter[36]\t\tclassifier (Passive-Aggressive)\t\taccuracy (0.7503691227861907)\n",
      "learning from step 37\n",
      "learning from step 38\n",
      "iter[39]\t\tclassifier (Passive-Aggressive)\t\taccuracy (0.7498645931487843)\n",
      "learning from step 40\n",
      "learning from step 41\n",
      "iter[42]\t\tclassifier (Passive-Aggressive)\t\taccuracy (0.7505026747490336)\n",
      "learning from step 43\n",
      "learning from step 44\n",
      "iter[45]\t\tclassifier (Passive-Aggressive)\t\taccuracy (0.7530698402570133)\n",
      "learning from step 46\n",
      "learning from step 47\n",
      "iter[48]\t\tclassifier (Passive-Aggressive)\t\taccuracy (0.754813435327462)\n",
      "learning from step 49\n",
      "learning from step 50\n",
      "iter[51]\t\tclassifier (Passive-Aggressive)\t\taccuracy (0.7590203221570125)\n",
      "learning from step 52\n",
      "learning from step 53\n",
      "iter[54]\t\tclassifier (Passive-Aggressive)\t\taccuracy (0.758211590826464)\n",
      "learning from step 55\n",
      "learning from step 56\n",
      "iter[57]\t\tclassifier (Passive-Aggressive)\t\taccuracy (0.7619955631070122)\n",
      "learning from step 58\n",
      "learning from step 59\n",
      "iter[60]\t\tclassifier (Passive-Aggressive)\t\taccuracy (0.7625891273863139)\n",
      "learning from step 61\n",
      "learning from step 62\n",
      "CPU times: user 1h 20min 47s, sys: 3min 37s, total: 1h 24min 24s\n",
      "Wall time: 18min 18s\n"
     ]
    }
   ],
   "source": [
    "%%time\n",
    "classes = np.unique(df4['BROWSE_NODE_ID'])\n",
    "print(len(classes))\n",
    "for i, (x,y) in enumerate(batches):\n",
    "    for name, cls in partial_fit_classifiers.items():\n",
    "        cls.partial_fit(x, y, classes=classes)\n",
    "        \n",
    "        if i%3==0:\n",
    "            acc = cls.score(x_dev, y_dev)\n",
    "            print(\"iter[{}]\\t\\tclassifier ({})\\t\\taccuracy ({})\".format(i, name, acc))\n",
    "        else:\n",
    "            print(\"learning from step {}\".format(i))\n",
    "        "
   ]
  },
  {
   "cell_type": "code",
   "execution_count": 112,
   "id": "44b4227d",
   "metadata": {},
   "outputs": [
    {
     "data": {
      "text/plain": [
       "PassiveAggressiveClassifier(n_jobs=-1, random_state=42)"
      ]
     },
     "execution_count": 112,
     "metadata": {},
     "output_type": "execute_result"
    }
   ],
   "source": [
    "clf = partial_fit_classifiers['Passive-Aggressive']\n",
    "clf"
   ]
  },
  {
   "cell_type": "code",
   "execution_count": 113,
   "id": "22dcbd9c",
   "metadata": {},
   "outputs": [
    {
     "data": {
      "text/plain": [
       "['model5.pkl']"
      ]
     },
     "execution_count": 113,
     "metadata": {},
     "output_type": "execute_result"
    }
   ],
   "source": [
    "#save the best model\n",
    "joblib.dump(clf, 'model5.pkl')"
   ]
  },
  {
   "cell_type": "code",
   "execution_count": 114,
   "id": "c12e0083",
   "metadata": {},
   "outputs": [],
   "source": [
    "#load  model\n",
    "model = joblib.load('model5.pkl')"
   ]
  },
  {
   "cell_type": "markdown",
   "id": "acab319d",
   "metadata": {},
   "source": [
    "## Test Data"
   ]
  },
  {
   "cell_type": "code",
   "execution_count": 115,
   "id": "306aaf12",
   "metadata": {},
   "outputs": [
    {
     "data": {
      "text/html": [
       "<div>\n",
       "<style scoped>\n",
       "    .dataframe tbody tr th:only-of-type {\n",
       "        vertical-align: middle;\n",
       "    }\n",
       "\n",
       "    .dataframe tbody tr th {\n",
       "        vertical-align: top;\n",
       "    }\n",
       "\n",
       "    .dataframe thead th {\n",
       "        text-align: right;\n",
       "    }\n",
       "</style>\n",
       "<table border=\"1\" class=\"dataframe\">\n",
       "  <thead>\n",
       "    <tr style=\"text-align: right;\">\n",
       "      <th></th>\n",
       "      <th>PRODUCT_ID</th>\n",
       "      <th>TITLE</th>\n",
       "      <th>DESCRIPTION</th>\n",
       "      <th>BULLET_POINTS</th>\n",
       "      <th>BRAND</th>\n",
       "    </tr>\n",
       "  </thead>\n",
       "  <tbody>\n",
       "    <tr>\n",
       "      <th>0</th>\n",
       "      <td>1</td>\n",
       "      <td>Command 3M Small Kitchen Hooks, White, Decorat...</td>\n",
       "      <td>Sale Unit: PACK</td>\n",
       "      <td>[INCLUDES - 9 hooks and 12 small indoor strips...</td>\n",
       "      <td>Command</td>\n",
       "    </tr>\n",
       "    <tr>\n",
       "      <th>1</th>\n",
       "      <td>2</td>\n",
       "      <td>O'Neal Jump Hardware JAG Unisex-Adult Glove (B...</td>\n",
       "      <td>Synthetic leather palm with double-layer thumb...</td>\n",
       "      <td>[Silicone printing for a better grip. Long las...</td>\n",
       "      <td>O'Neal</td>\n",
       "    </tr>\n",
       "    <tr>\n",
       "      <th>2</th>\n",
       "      <td>3</td>\n",
       "      <td>NFL Detroit Lions Portable Party Fridge, 15.8 ...</td>\n",
       "      <td>Boelter Brands lets you celebrate your favorit...</td>\n",
       "      <td>[Runs on 12 Volt DC Power or 110 Volt AC Power...</td>\n",
       "      <td>Boelter Brands</td>\n",
       "    </tr>\n",
       "    <tr>\n",
       "      <th>3</th>\n",
       "      <td>4</td>\n",
       "      <td>Panasonic Single Line KX-TS880MX Corded Phone ...</td>\n",
       "      <td>Features: 50 Station Phonebook Corded Phone Al...</td>\n",
       "      <td>Panasonic Landline Phones doesn't come with a ...</td>\n",
       "      <td>Panasonic</td>\n",
       "    </tr>\n",
       "    <tr>\n",
       "      <th>4</th>\n",
       "      <td>5</td>\n",
       "      <td>Zero Baby Girl's 100% Cotton Innerwear Bloomer...</td>\n",
       "      <td>Zero Baby Girl Panties Set. 100% Cotton, Breat...</td>\n",
       "      <td>[Zero Baby Girl Panties, Pack of 6, 100% Cotto...</td>\n",
       "      <td>Zero</td>\n",
       "    </tr>\n",
       "  </tbody>\n",
       "</table>\n",
       "</div>"
      ],
      "text/plain": [
       "   PRODUCT_ID                                              TITLE  \\\n",
       "0           1  Command 3M Small Kitchen Hooks, White, Decorat...   \n",
       "1           2  O'Neal Jump Hardware JAG Unisex-Adult Glove (B...   \n",
       "2           3  NFL Detroit Lions Portable Party Fridge, 15.8 ...   \n",
       "3           4  Panasonic Single Line KX-TS880MX Corded Phone ...   \n",
       "4           5  Zero Baby Girl's 100% Cotton Innerwear Bloomer...   \n",
       "\n",
       "                                         DESCRIPTION  \\\n",
       "0                                    Sale Unit: PACK   \n",
       "1  Synthetic leather palm with double-layer thumb...   \n",
       "2  Boelter Brands lets you celebrate your favorit...   \n",
       "3  Features: 50 Station Phonebook Corded Phone Al...   \n",
       "4  Zero Baby Girl Panties Set. 100% Cotton, Breat...   \n",
       "\n",
       "                                       BULLET_POINTS           BRAND  \n",
       "0  [INCLUDES - 9 hooks and 12 small indoor strips...         Command  \n",
       "1  [Silicone printing for a better grip. Long las...          O'Neal  \n",
       "2  [Runs on 12 Volt DC Power or 110 Volt AC Power...  Boelter Brands  \n",
       "3  Panasonic Landline Phones doesn't come with a ...       Panasonic  \n",
       "4  [Zero Baby Girl Panties, Pack of 6, 100% Cotto...            Zero  "
      ]
     },
     "execution_count": 115,
     "metadata": {},
     "output_type": "execute_result"
    }
   ],
   "source": [
    "df_test = pd.read_csv('dataset/test.csv', escapechar='\\\\', quoting=csv.QUOTE_NONE)\n",
    "df_test.head()"
   ]
  },
  {
   "cell_type": "code",
   "execution_count": 116,
   "id": "aa421b2c",
   "metadata": {
    "scrolled": true
   },
   "outputs": [
    {
     "data": {
      "text/plain": [
       "(110775, 5)"
      ]
     },
     "execution_count": 116,
     "metadata": {},
     "output_type": "execute_result"
    }
   ],
   "source": [
    "df_test.shape"
   ]
  },
  {
   "cell_type": "code",
   "execution_count": 117,
   "id": "d5c8f23c",
   "metadata": {},
   "outputs": [
    {
     "data": {
      "text/plain": [
       "PRODUCT_ID       False\n",
       "TITLE             True\n",
       "DESCRIPTION       True\n",
       "BULLET_POINTS     True\n",
       "BRAND             True\n",
       "dtype: bool"
      ]
     },
     "execution_count": 117,
     "metadata": {},
     "output_type": "execute_result"
    }
   ],
   "source": [
    "df_test.isna().any()"
   ]
  },
  {
   "cell_type": "code",
   "execution_count": 118,
   "id": "513cc62e",
   "metadata": {},
   "outputs": [],
   "source": [
    "# #clean the test data as well\n",
    "# df_test_new = clean_sentences(df_test)\n",
    "# df_test_new.head()"
   ]
  },
  {
   "cell_type": "code",
   "execution_count": 119,
   "id": "295d2f5f",
   "metadata": {},
   "outputs": [],
   "source": [
    "#save the cleaned dataset\n",
    "# tdf = df_test_new[['PRODUCT_ID', 'CONCATENATED']] # without normalized labels\n",
    "# tdf.to_csv('cleaned_test_df.csv', index=False)"
   ]
  },
  {
   "cell_type": "code",
   "execution_count": 120,
   "id": "678c8cbe",
   "metadata": {},
   "outputs": [
    {
     "data": {
      "text/html": [
       "<div>\n",
       "<style scoped>\n",
       "    .dataframe tbody tr th:only-of-type {\n",
       "        vertical-align: middle;\n",
       "    }\n",
       "\n",
       "    .dataframe tbody tr th {\n",
       "        vertical-align: top;\n",
       "    }\n",
       "\n",
       "    .dataframe thead th {\n",
       "        text-align: right;\n",
       "    }\n",
       "</style>\n",
       "<table border=\"1\" class=\"dataframe\">\n",
       "  <thead>\n",
       "    <tr style=\"text-align: right;\">\n",
       "      <th></th>\n",
       "      <th>PRODUCT_ID</th>\n",
       "      <th>CONCATENATED</th>\n",
       "    </tr>\n",
       "  </thead>\n",
       "  <tbody>\n",
       "    <tr>\n",
       "      <th>0</th>\n",
       "      <td>1</td>\n",
       "      <td>Command Small Kitchen Hooks White Decorate Dam...</td>\n",
       "    </tr>\n",
       "    <tr>\n",
       "      <th>1</th>\n",
       "      <td>2</td>\n",
       "      <td>ONeal Jump Hardware JAG Unisex Adult Glove Bla...</td>\n",
       "    </tr>\n",
       "    <tr>\n",
       "      <th>2</th>\n",
       "      <td>3</td>\n",
       "      <td>NFL Detroit Lions Portable Party Fridge Quart ...</td>\n",
       "    </tr>\n",
       "    <tr>\n",
       "      <th>3</th>\n",
       "      <td>4</td>\n",
       "      <td>Panasonic Single Line KX TS MX Corded Phone Wh...</td>\n",
       "    </tr>\n",
       "    <tr>\n",
       "      <th>4</th>\n",
       "      <td>5</td>\n",
       "      <td>Zero Baby Girls Cotton Innerwear Bloomer Drawe...</td>\n",
       "    </tr>\n",
       "  </tbody>\n",
       "</table>\n",
       "</div>"
      ],
      "text/plain": [
       "   PRODUCT_ID                                       CONCATENATED\n",
       "0           1  Command Small Kitchen Hooks White Decorate Dam...\n",
       "1           2  ONeal Jump Hardware JAG Unisex Adult Glove Bla...\n",
       "2           3  NFL Detroit Lions Portable Party Fridge Quart ...\n",
       "3           4  Panasonic Single Line KX TS MX Corded Phone Wh...\n",
       "4           5  Zero Baby Girls Cotton Innerwear Bloomer Drawe..."
      ]
     },
     "execution_count": 120,
     "metadata": {},
     "output_type": "execute_result"
    }
   ],
   "source": [
    "# read the saved test dataset\n",
    "test_data = pd.read_csv('cleaned_test_df.csv')\n",
    "test_data.head()"
   ]
  },
  {
   "cell_type": "code",
   "execution_count": 121,
   "id": "88041066",
   "metadata": {},
   "outputs": [],
   "source": [
    "test_text = test_data['CONCATENATED']"
   ]
  },
  {
   "cell_type": "code",
   "execution_count": 122,
   "id": "aa79bdfe",
   "metadata": {},
   "outputs": [
    {
     "name": "stdout",
     "output_type": "stream",
     "text": [
      "CPU times: user 4.22 s, sys: 69.3 ms, total: 4.29 s\n",
      "Wall time: 4.33 s\n"
     ]
    }
   ],
   "source": [
    "%%time\n",
    "#vectorize it\n",
    "x_test = vectorizer.transform(test_text)"
   ]
  },
  {
   "cell_type": "code",
   "execution_count": 123,
   "id": "a4a94ef4",
   "metadata": {},
   "outputs": [
    {
     "name": "stdout",
     "output_type": "stream",
     "text": [
      "CPU times: user 12.9 s, sys: 4.07 s, total: 17 s\n",
      "Wall time: 19.3 s\n"
     ]
    }
   ],
   "source": [
    "%%time\n",
    "pred = model.predict(x_test)"
   ]
  },
  {
   "cell_type": "code",
   "execution_count": 124,
   "id": "4a10c9d5",
   "metadata": {},
   "outputs": [
    {
     "data": {
      "text/plain": [
       "3275"
      ]
     },
     "execution_count": 124,
     "metadata": {},
     "output_type": "execute_result"
    }
   ],
   "source": [
    "max(pred)"
   ]
  },
  {
   "cell_type": "code",
   "execution_count": 125,
   "id": "cdd15360",
   "metadata": {},
   "outputs": [],
   "source": [
    "def inverse_dict_map(predicted, dict_map):\n",
    "    inv_map = {v: k for k, v in dict_map.items()}\n",
    "    for i in range(len(predicted)):\n",
    "        predicted[i] = inv_map[predicted[i]]\n",
    "    return predicted, inv_map"
   ]
  },
  {
   "cell_type": "code",
   "execution_count": 126,
   "id": "144451b3",
   "metadata": {},
   "outputs": [],
   "source": [
    "predicted_labels, inv_map = inverse_dict_map(pred.copy(), dict_map)"
   ]
  },
  {
   "cell_type": "code",
   "execution_count": 127,
   "id": "48b9c69c",
   "metadata": {},
   "outputs": [
    {
     "data": {
      "text/plain": [
       "110775"
      ]
     },
     "execution_count": 127,
     "metadata": {},
     "output_type": "execute_result"
    }
   ],
   "source": [
    "len(predicted_labels)"
   ]
  },
  {
   "cell_type": "code",
   "execution_count": 128,
   "id": "ed340acd",
   "metadata": {},
   "outputs": [
    {
     "data": {
      "text/html": [
       "<div>\n",
       "<style scoped>\n",
       "    .dataframe tbody tr th:only-of-type {\n",
       "        vertical-align: middle;\n",
       "    }\n",
       "\n",
       "    .dataframe tbody tr th {\n",
       "        vertical-align: top;\n",
       "    }\n",
       "\n",
       "    .dataframe thead th {\n",
       "        text-align: right;\n",
       "    }\n",
       "</style>\n",
       "<table border=\"1\" class=\"dataframe\">\n",
       "  <thead>\n",
       "    <tr style=\"text-align: right;\">\n",
       "      <th></th>\n",
       "      <th>PRODUCT_ID</th>\n",
       "      <th>BROWSE_NODE_ID</th>\n",
       "    </tr>\n",
       "  </thead>\n",
       "  <tbody>\n",
       "    <tr>\n",
       "      <th>0</th>\n",
       "      <td>1</td>\n",
       "      <td>1140</td>\n",
       "    </tr>\n",
       "    <tr>\n",
       "      <th>1</th>\n",
       "      <td>2</td>\n",
       "      <td>15772</td>\n",
       "    </tr>\n",
       "    <tr>\n",
       "      <th>2</th>\n",
       "      <td>3</td>\n",
       "      <td>11</td>\n",
       "    </tr>\n",
       "    <tr>\n",
       "      <th>3</th>\n",
       "      <td>4</td>\n",
       "      <td>125</td>\n",
       "    </tr>\n",
       "    <tr>\n",
       "      <th>4</th>\n",
       "      <td>5</td>\n",
       "      <td>1682</td>\n",
       "    </tr>\n",
       "  </tbody>\n",
       "</table>\n",
       "</div>"
      ],
      "text/plain": [
       "   PRODUCT_ID  BROWSE_NODE_ID\n",
       "0           1            1140\n",
       "1           2           15772\n",
       "2           3              11\n",
       "3           4             125\n",
       "4           5            1682"
      ]
     },
     "execution_count": 128,
     "metadata": {},
     "output_type": "execute_result"
    }
   ],
   "source": [
    "df_sub = pd.DataFrame({'PRODUCT_ID' : df_test.PRODUCT_ID, 'BROWSE_NODE_ID':predicted_labels})\n",
    "df_sub.head()"
   ]
  },
  {
   "cell_type": "code",
   "execution_count": 129,
   "id": "e949b0ab",
   "metadata": {},
   "outputs": [],
   "source": [
    "df_sub.to_csv('submission6.csv', index=False)"
   ]
  },
  {
   "cell_type": "code",
   "execution_count": null,
   "id": "04c92be1",
   "metadata": {},
   "outputs": [],
   "source": []
  }
 ],
 "metadata": {
  "kernelspec": {
   "display_name": "tf_macos",
   "language": "python",
   "name": "tf_macos"
  },
  "language_info": {
   "codemirror_mode": {
    "name": "ipython",
    "version": 3
   },
   "file_extension": ".py",
   "mimetype": "text/x-python",
   "name": "python",
   "nbconvert_exporter": "python",
   "pygments_lexer": "ipython3",
   "version": "3.8.10"
  }
 },
 "nbformat": 4,
 "nbformat_minor": 5
}
